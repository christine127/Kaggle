{
  "nbformat": 4,
  "nbformat_minor": 0,
  "metadata": {
    "colab": {
      "name": "iris.ipynb",
      "provenance": [],
      "collapsed_sections": [],
      "authorship_tag": "ABX9TyPTXgfuyTcUqxztusqVabkw",
      "include_colab_link": true
    },
    "kernelspec": {
      "name": "python3",
      "display_name": "Python 3"
    },
    "language_info": {
      "name": "python"
    }
  },
  "cells": [
    {
      "cell_type": "markdown",
      "metadata": {
        "id": "view-in-github",
        "colab_type": "text"
      },
      "source": [
        "<a href=\"https://colab.research.google.com/github/christine127/Kaggle/blob/main/iris.ipynb\" target=\"_parent\"><img src=\"https://colab.research.google.com/assets/colab-badge.svg\" alt=\"Open In Colab\"/></a>"
      ]
    },
    {
      "cell_type": "code",
      "metadata": {
        "id": "sd3J7Lv7iQSH"
      },
      "source": [
        "from sklearn.datasets import load_iris\n",
        "import numpy as np\n",
        "import pandas as pd\n",
        "import warnings \n",
        "warnings.filterwarnings('ignore')"
      ],
      "execution_count": null,
      "outputs": []
    },
    {
      "cell_type": "code",
      "metadata": {
        "id": "aJ7SzT28ie0x"
      },
      "source": [
        "dataset =load_iris()"
      ],
      "execution_count": null,
      "outputs": []
    },
    {
      "cell_type": "code",
      "metadata": {
        "collapsed": true,
        "id": "IrPbweCLimFU"
      },
      "source": [
        "df = pd.DataFrame(data = dataset.data, columns= dataset.feature_names)\n",
        "df['target'] =dataset.target"
      ],
      "execution_count": null,
      "outputs": []
    },
    {
      "cell_type": "code",
      "metadata": {
        "id": "S3YupFQsim3V"
      },
      "source": [
        "from sklearn.model_selection import train_test_split\n",
        "from sklearn.metrics import accuracy_score, f1_score, recall_score, precision_score, confusion_matrix, roc_auc_score\n",
        "\n",
        "## 모델 라이브러리\n",
        "#분류\n",
        "from sklearn.ensemble import RandomForestClassifier\n",
        "from sklearn.tree import DecisionTreeClassifier\n",
        "from sklearn.linear_model import LogisticRegression\n",
        "from xgboost import XGBClassifier\n",
        "#KNN\n",
        "from sklearn.neighbors import KNeighborsClassifier"
      ],
      "execution_count": null,
      "outputs": []
    },
    {
      "cell_type": "code",
      "metadata": {
        "id": "X-IATPE5jJQ0"
      },
      "source": [
        "rt = RandomForestClassifier()\n",
        "dt = DecisionTreeClassifier()\n",
        "lr = LogisticRegression()\n",
        "xgb = XGBClassifier()\n",
        "knn = KNeighborsClassifier()\n",
        "\n",
        "models = [rt,dt,lr,xgb,knn]"
      ],
      "execution_count": null,
      "outputs": []
    },
    {
      "cell_type": "code",
      "metadata": {
        "id": "exgVLAIYpsYW"
      },
      "source": [
        "X = df.drop(\"target\", axis=1)\n",
        "y = df['target']\n",
        "X_train, X_test, y_train, y_test = train_test_split(X,y, test_size = 0.3, shuffle= True, \n",
        "                                                      random_state = 121)"
      ],
      "execution_count": null,
      "outputs": []
    },
    {
      "cell_type": "code",
      "metadata": {
        "colab": {
          "base_uri": "https://localhost:8080/"
        },
        "id": "P92j-rBzqA0u",
        "outputId": "9731b252-2cf0-45a7-c76f-ee0046cf6335"
      },
      "source": [
        "for model in models:\n",
        "  model.fit(X_train, y_train)\n",
        "  pred= model.predict(X_test)\n",
        "  proba = model.predict_proba(X_test)\n",
        "  print(model)\n",
        "  accuracy = accuracy_score(y_test, pred)\n",
        "  recall = recall_score(y_test, pred, average='macro')\n",
        "  precision =  precision_score(y_test, pred, average= 'macro')\n",
        "  f1 = f1_score(y_test, pred, average='macro')\n",
        "  auc = roc_auc_score(y_test, proba, average='macro', multi_class= 'ovr')\n",
        "  print(\"Accuracy:{:.6f} precision:{:.6f} recall:{:.6f} f1:{:.6f} auc:{:.6f}\".format(accuracy, precision, recall, f1, auc))\n",
        "  mtx = confusion_matrix(y_test, pred)\n",
        "  print(mtx)\n"
      ],
      "execution_count": null,
      "outputs": [
        {
          "output_type": "stream",
          "text": [
            "RandomForestClassifier(bootstrap=True, ccp_alpha=0.0, class_weight=None,\n",
            "                       criterion='gini', max_depth=None, max_features='auto',\n",
            "                       max_leaf_nodes=None, max_samples=None,\n",
            "                       min_impurity_decrease=0.0, min_impurity_split=None,\n",
            "                       min_samples_leaf=1, min_samples_split=2,\n",
            "                       min_weight_fraction_leaf=0.0, n_estimators=100,\n",
            "                       n_jobs=None, oob_score=False, random_state=None,\n",
            "                       verbose=0, warm_start=False)\n",
            "Accuracy:0.955556 precision:0.956944 recall:0.956944 f1:0.956944 auc:0.994893\n",
            "[[14  0  0]\n",
            " [ 0 15  1]\n",
            " [ 0  1 14]]\n",
            "DecisionTreeClassifier(ccp_alpha=0.0, class_weight=None, criterion='gini',\n",
            "                       max_depth=None, max_features=None, max_leaf_nodes=None,\n",
            "                       min_impurity_decrease=0.0, min_impurity_split=None,\n",
            "                       min_samples_leaf=1, min_samples_split=2,\n",
            "                       min_weight_fraction_leaf=0.0, presort='deprecated',\n",
            "                       random_state=None, splitter='best')\n",
            "Accuracy:0.955556 precision:0.956944 recall:0.956944 f1:0.956944 auc:0.967170\n",
            "[[14  0  0]\n",
            " [ 0 15  1]\n",
            " [ 0  1 14]]\n",
            "LogisticRegression(C=1.0, class_weight=None, dual=False, fit_intercept=True,\n",
            "                   intercept_scaling=1, l1_ratio=None, max_iter=100,\n",
            "                   multi_class='auto', n_jobs=None, penalty='l2',\n",
            "                   random_state=None, solver='lbfgs', tol=0.0001, verbose=0,\n",
            "                   warm_start=False)\n",
            "Accuracy:0.955556 precision:0.956944 recall:0.956944 f1:0.956944 auc:0.997082\n",
            "[[14  0  0]\n",
            " [ 0 15  1]\n",
            " [ 0  1 14]]\n",
            "XGBClassifier(base_score=0.5, booster='gbtree', colsample_bylevel=1,\n",
            "              colsample_bynode=1, colsample_bytree=1, gamma=0,\n",
            "              learning_rate=0.1, max_delta_step=0, max_depth=3,\n",
            "              min_child_weight=1, missing=None, n_estimators=100, n_jobs=1,\n",
            "              nthread=None, objective='multi:softprob', random_state=0,\n",
            "              reg_alpha=0, reg_lambda=1, scale_pos_weight=1, seed=None,\n",
            "              silent=None, subsample=1, verbosity=1)\n",
            "Accuracy:0.955556 precision:0.956944 recall:0.956944 f1:0.956944 auc:0.973017\n",
            "[[14  0  0]\n",
            " [ 0 15  1]\n",
            " [ 0  1 14]]\n",
            "KNeighborsClassifier(algorithm='auto', leaf_size=30, metric='minkowski',\n",
            "                     metric_params=None, n_jobs=None, n_neighbors=5, p=2,\n",
            "                     weights='uniform')\n",
            "Accuracy:0.955556 precision:0.956944 recall:0.956944 f1:0.956944 auc:0.996352\n",
            "[[14  0  0]\n",
            " [ 0 15  1]\n",
            " [ 0  1 14]]\n"
          ],
          "name": "stdout"
        }
      ]
    },
    {
      "cell_type": "code",
      "metadata": {
        "id": "0EvHfZMtqdyV"
      },
      "source": [
        ""
      ],
      "execution_count": null,
      "outputs": []
    }
  ]
}
