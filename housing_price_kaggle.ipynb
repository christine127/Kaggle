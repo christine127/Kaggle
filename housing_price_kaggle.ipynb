{
 "metadata": {
  "language_info": {
   "codemirror_mode": {
    "name": "ipython",
    "version": 3
   },
   "file_extension": ".py",
   "mimetype": "text/x-python",
   "name": "python",
   "nbconvert_exporter": "python",
   "pygments_lexer": "ipython3",
   "version": "3.8.5"
  },
  "orig_nbformat": 2,
  "kernelspec": {
   "name": "python385jvsc74a57bd097ae724bfa85b9b34df7982b8bb8c7216f435b92902d749e4263f71162bea840",
   "display_name": "Python 3.8.5 64-bit ('base': conda)"
  }
 },
 "nbformat": 4,
 "nbformat_minor": 2,
 "cells": [
  {
   "cell_type": "code",
   "execution_count": 1,
   "metadata": {},
   "outputs": [],
   "source": [
    "import numpy as np\n",
    "import pandas as pd\n",
    "import seaborn as sns\n",
    "import matplotlib.pyplot as plt\n",
    "import warnings\n",
    "warnings.filterwarnings(action='ignore')\n",
    "\n",
    "from sklearn.model_selection import train_test_split\n",
    "from sklearn.preprocessing import StandardScaler\n",
    "from sklearn.linear_model import LinearRegression\n",
    "from sklearn.metrics import mean_squared_error\n",
    "from sklearn.model_selection import GridSearchCV, cross_val_score, KFold, cross_validate\n"
   ]
  },
  {
   "source": [
    "# 1. Defining the problem statement\n",
    "Look at each variable and do a philosophical analysis about their meaning and importance for this problem."
   ],
   "cell_type": "markdown",
   "metadata": {}
  },
  {
   "source": [
    "# 2. Collecting Data"
   ],
   "cell_type": "markdown",
   "metadata": {}
  },
  {
   "cell_type": "code",
   "execution_count": 2,
   "metadata": {},
   "outputs": [],
   "source": [
    "dataset = pd.read_csv(\"train.csv\")\n",
    "df =dataset.copy()\n",
    "test = pd.read_csv('test.csv')\n",
    "sub_df = pd.read_csv('sample_submission.csv')"
   ]
  },
  {
   "cell_type": "code",
   "execution_count": 3,
   "metadata": {},
   "outputs": [],
   "source": [
    "train_test = pd.concat([df,test])"
   ]
  },
  {
   "cell_type": "code",
   "execution_count": 4,
   "metadata": {},
   "outputs": [],
   "source": [
    "# X_df = dataset.iloc[:, :-1]\n",
    "# y_df = dataset.iloc[:,-1]\n",
    "\n",
    "# X_train , X_val, y_train, y_val = train_test_split(X_df, y_df, test_size=0.2, shuffle = True,random_state=121)\n",
    "# print(X_train.shape, X_val.shape, y_train.shape, y_val.shape)\n"
   ]
  },
  {
   "source": [
    "# 3. EDA(Exploratory Data Analysis) & Data Preprocessing\n"
   ],
   "cell_type": "markdown",
   "metadata": {}
  },
  {
   "cell_type": "code",
   "execution_count": 5,
   "metadata": {},
   "outputs": [
    {
     "output_type": "execute_result",
     "data": {
      "text/plain": [
       "(1460, 81)"
      ]
     },
     "metadata": {},
     "execution_count": 5
    }
   ],
   "source": [
    "dataset.shape"
   ]
  },
  {
   "cell_type": "code",
   "execution_count": 6,
   "metadata": {},
   "outputs": [
    {
     "output_type": "stream",
     "name": "stdout",
     "text": [
      "<class 'pandas.core.frame.DataFrame'>\nRangeIndex: 1460 entries, 0 to 1459\nData columns (total 81 columns):\n #   Column         Non-Null Count  Dtype  \n---  ------         --------------  -----  \n 0   Id             1460 non-null   int64  \n 1   MSSubClass     1460 non-null   int64  \n 2   MSZoning       1460 non-null   object \n 3   LotFrontage    1201 non-null   float64\n 4   LotArea        1460 non-null   int64  \n 5   Street         1460 non-null   object \n 6   Alley          91 non-null     object \n 7   LotShape       1460 non-null   object \n 8   LandContour    1460 non-null   object \n 9   Utilities      1460 non-null   object \n 10  LotConfig      1460 non-null   object \n 11  LandSlope      1460 non-null   object \n 12  Neighborhood   1460 non-null   object \n 13  Condition1     1460 non-null   object \n 14  Condition2     1460 non-null   object \n 15  BldgType       1460 non-null   object \n 16  HouseStyle     1460 non-null   object \n 17  OverallQual    1460 non-null   int64  \n 18  OverallCond    1460 non-null   int64  \n 19  YearBuilt      1460 non-null   int64  \n 20  YearRemodAdd   1460 non-null   int64  \n 21  RoofStyle      1460 non-null   object \n 22  RoofMatl       1460 non-null   object \n 23  Exterior1st    1460 non-null   object \n 24  Exterior2nd    1460 non-null   object \n 25  MasVnrType     1452 non-null   object \n 26  MasVnrArea     1452 non-null   float64\n 27  ExterQual      1460 non-null   object \n 28  ExterCond      1460 non-null   object \n 29  Foundation     1460 non-null   object \n 30  BsmtQual       1423 non-null   object \n 31  BsmtCond       1423 non-null   object \n 32  BsmtExposure   1422 non-null   object \n 33  BsmtFinType1   1423 non-null   object \n 34  BsmtFinSF1     1460 non-null   int64  \n 35  BsmtFinType2   1422 non-null   object \n 36  BsmtFinSF2     1460 non-null   int64  \n 37  BsmtUnfSF      1460 non-null   int64  \n 38  TotalBsmtSF    1460 non-null   int64  \n 39  Heating        1460 non-null   object \n 40  HeatingQC      1460 non-null   object \n 41  CentralAir     1460 non-null   object \n 42  Electrical     1459 non-null   object \n 43  1stFlrSF       1460 non-null   int64  \n 44  2ndFlrSF       1460 non-null   int64  \n 45  LowQualFinSF   1460 non-null   int64  \n 46  GrLivArea      1460 non-null   int64  \n 47  BsmtFullBath   1460 non-null   int64  \n 48  BsmtHalfBath   1460 non-null   int64  \n 49  FullBath       1460 non-null   int64  \n 50  HalfBath       1460 non-null   int64  \n 51  BedroomAbvGr   1460 non-null   int64  \n 52  KitchenAbvGr   1460 non-null   int64  \n 53  KitchenQual    1460 non-null   object \n 54  TotRmsAbvGrd   1460 non-null   int64  \n 55  Functional     1460 non-null   object \n 56  Fireplaces     1460 non-null   int64  \n 57  FireplaceQu    770 non-null    object \n 58  GarageType     1379 non-null   object \n 59  GarageYrBlt    1379 non-null   float64\n 60  GarageFinish   1379 non-null   object \n 61  GarageCars     1460 non-null   int64  \n 62  GarageArea     1460 non-null   int64  \n 63  GarageQual     1379 non-null   object \n 64  GarageCond     1379 non-null   object \n 65  PavedDrive     1460 non-null   object \n 66  WoodDeckSF     1460 non-null   int64  \n 67  OpenPorchSF    1460 non-null   int64  \n 68  EnclosedPorch  1460 non-null   int64  \n 69  3SsnPorch      1460 non-null   int64  \n 70  ScreenPorch    1460 non-null   int64  \n 71  PoolArea       1460 non-null   int64  \n 72  PoolQC         7 non-null      object \n 73  Fence          281 non-null    object \n 74  MiscFeature    54 non-null     object \n 75  MiscVal        1460 non-null   int64  \n 76  MoSold         1460 non-null   int64  \n 77  YrSold         1460 non-null   int64  \n 78  SaleType       1460 non-null   object \n 79  SaleCondition  1460 non-null   object \n 80  SalePrice      1460 non-null   int64  \ndtypes: float64(3), int64(35), object(43)\nmemory usage: 924.0+ KB\n"
     ]
    }
   ],
   "source": [
    "dataset.info()"
   ]
  },
  {
   "cell_type": "code",
   "execution_count": 7,
   "metadata": {},
   "outputs": [
    {
     "output_type": "execute_result",
     "data": {
      "text/plain": [
       "   Id  MSSubClass MSZoning  LotFrontage  LotArea Street Alley LotShape  \\\n",
       "0   1          60       RL         65.0     8450   Pave   NaN      Reg   \n",
       "1   2          20       RL         80.0     9600   Pave   NaN      Reg   \n",
       "2   3          60       RL         68.0    11250   Pave   NaN      IR1   \n",
       "3   4          70       RL         60.0     9550   Pave   NaN      IR1   \n",
       "4   5          60       RL         84.0    14260   Pave   NaN      IR1   \n",
       "\n",
       "  LandContour Utilities  ... PoolArea PoolQC Fence MiscFeature MiscVal MoSold  \\\n",
       "0         Lvl    AllPub  ...        0    NaN   NaN         NaN       0      2   \n",
       "1         Lvl    AllPub  ...        0    NaN   NaN         NaN       0      5   \n",
       "2         Lvl    AllPub  ...        0    NaN   NaN         NaN       0      9   \n",
       "3         Lvl    AllPub  ...        0    NaN   NaN         NaN       0      2   \n",
       "4         Lvl    AllPub  ...        0    NaN   NaN         NaN       0     12   \n",
       "\n",
       "  YrSold  SaleType  SaleCondition  SalePrice  \n",
       "0   2008        WD         Normal     208500  \n",
       "1   2007        WD         Normal     181500  \n",
       "2   2008        WD         Normal     223500  \n",
       "3   2006        WD        Abnorml     140000  \n",
       "4   2008        WD         Normal     250000  \n",
       "\n",
       "[5 rows x 81 columns]"
      ],
      "text/html": "<div>\n<style scoped>\n    .dataframe tbody tr th:only-of-type {\n        vertical-align: middle;\n    }\n\n    .dataframe tbody tr th {\n        vertical-align: top;\n    }\n\n    .dataframe thead th {\n        text-align: right;\n    }\n</style>\n<table border=\"1\" class=\"dataframe\">\n  <thead>\n    <tr style=\"text-align: right;\">\n      <th></th>\n      <th>Id</th>\n      <th>MSSubClass</th>\n      <th>MSZoning</th>\n      <th>LotFrontage</th>\n      <th>LotArea</th>\n      <th>Street</th>\n      <th>Alley</th>\n      <th>LotShape</th>\n      <th>LandContour</th>\n      <th>Utilities</th>\n      <th>...</th>\n      <th>PoolArea</th>\n      <th>PoolQC</th>\n      <th>Fence</th>\n      <th>MiscFeature</th>\n      <th>MiscVal</th>\n      <th>MoSold</th>\n      <th>YrSold</th>\n      <th>SaleType</th>\n      <th>SaleCondition</th>\n      <th>SalePrice</th>\n    </tr>\n  </thead>\n  <tbody>\n    <tr>\n      <th>0</th>\n      <td>1</td>\n      <td>60</td>\n      <td>RL</td>\n      <td>65.0</td>\n      <td>8450</td>\n      <td>Pave</td>\n      <td>NaN</td>\n      <td>Reg</td>\n      <td>Lvl</td>\n      <td>AllPub</td>\n      <td>...</td>\n      <td>0</td>\n      <td>NaN</td>\n      <td>NaN</td>\n      <td>NaN</td>\n      <td>0</td>\n      <td>2</td>\n      <td>2008</td>\n      <td>WD</td>\n      <td>Normal</td>\n      <td>208500</td>\n    </tr>\n    <tr>\n      <th>1</th>\n      <td>2</td>\n      <td>20</td>\n      <td>RL</td>\n      <td>80.0</td>\n      <td>9600</td>\n      <td>Pave</td>\n      <td>NaN</td>\n      <td>Reg</td>\n      <td>Lvl</td>\n      <td>AllPub</td>\n      <td>...</td>\n      <td>0</td>\n      <td>NaN</td>\n      <td>NaN</td>\n      <td>NaN</td>\n      <td>0</td>\n      <td>5</td>\n      <td>2007</td>\n      <td>WD</td>\n      <td>Normal</td>\n      <td>181500</td>\n    </tr>\n    <tr>\n      <th>2</th>\n      <td>3</td>\n      <td>60</td>\n      <td>RL</td>\n      <td>68.0</td>\n      <td>11250</td>\n      <td>Pave</td>\n      <td>NaN</td>\n      <td>IR1</td>\n      <td>Lvl</td>\n      <td>AllPub</td>\n      <td>...</td>\n      <td>0</td>\n      <td>NaN</td>\n      <td>NaN</td>\n      <td>NaN</td>\n      <td>0</td>\n      <td>9</td>\n      <td>2008</td>\n      <td>WD</td>\n      <td>Normal</td>\n      <td>223500</td>\n    </tr>\n    <tr>\n      <th>3</th>\n      <td>4</td>\n      <td>70</td>\n      <td>RL</td>\n      <td>60.0</td>\n      <td>9550</td>\n      <td>Pave</td>\n      <td>NaN</td>\n      <td>IR1</td>\n      <td>Lvl</td>\n      <td>AllPub</td>\n      <td>...</td>\n      <td>0</td>\n      <td>NaN</td>\n      <td>NaN</td>\n      <td>NaN</td>\n      <td>0</td>\n      <td>2</td>\n      <td>2006</td>\n      <td>WD</td>\n      <td>Abnorml</td>\n      <td>140000</td>\n    </tr>\n    <tr>\n      <th>4</th>\n      <td>5</td>\n      <td>60</td>\n      <td>RL</td>\n      <td>84.0</td>\n      <td>14260</td>\n      <td>Pave</td>\n      <td>NaN</td>\n      <td>IR1</td>\n      <td>Lvl</td>\n      <td>AllPub</td>\n      <td>...</td>\n      <td>0</td>\n      <td>NaN</td>\n      <td>NaN</td>\n      <td>NaN</td>\n      <td>0</td>\n      <td>12</td>\n      <td>2008</td>\n      <td>WD</td>\n      <td>Normal</td>\n      <td>250000</td>\n    </tr>\n  </tbody>\n</table>\n<p>5 rows × 81 columns</p>\n</div>"
     },
     "metadata": {},
     "execution_count": 7
    }
   ],
   "source": [
    "dataset.head()"
   ]
  },
  {
   "source": [
    "## Missing_Value "
   ],
   "cell_type": "markdown",
   "metadata": {}
  },
  {
   "cell_type": "code",
   "execution_count": 8,
   "metadata": {},
   "outputs": [
    {
     "output_type": "stream",
     "name": "stdout",
     "text": [
      "               CNT       RATE\nPoolQC        2909  99.657417\nMiscFeature   2814  96.402878\nAlley         2721  93.216855\nFence         2348  80.438506\nSalePrice     1459  49.982871\nFireplaceQu   1420  48.646797\nLotFrontage    486  16.649538\nGarageCond     159   5.447071\nGarageYrBlt    159   5.447071\nGarageFinish   159   5.447071\nGarageQual     159   5.447071\nGarageType     157   5.378554\nBsmtExposure    82   2.809181\nBsmtCond        82   2.809181\nBsmtQual        81   2.774923\nBsmtFinType2    80   2.740665\nBsmtFinType1    79   2.706406\nMasVnrType      24   0.822199\nMasVnrArea      23   0.787941\nMSZoning         4   0.137033\nFunctional       2   0.068517\nBsmtHalfBath     2   0.068517\nBsmtFullBath     2   0.068517\nUtilities        2   0.068517\nKitchenQual      1   0.034258\nTotalBsmtSF      1   0.034258\nBsmtUnfSF        1   0.034258\nGarageCars       1   0.034258\nGarageArea       1   0.034258\nBsmtFinSF2       1   0.034258\nBsmtFinSF1       1   0.034258\nExterior2nd      1   0.034258\nExterior1st      1   0.034258\nSaleType         1   0.034258\nElectrical       1   0.034258\n"
     ]
    },
    {
     "output_type": "execute_result",
     "data": {
      "text/plain": [
       "(35, 2)"
      ]
     },
     "metadata": {},
     "execution_count": 8
    }
   ],
   "source": [
    "nan_dict = {\"CNT\":train_test.isna().sum(),\n",
    "            \"RATE\": train_test.isna().sum()/train_test.shape[0] *100\n",
    "}\n",
    "nan_df = pd.DataFrame(nan_dict)\n",
    "print(nan_df[nan_df[\"RATE\"]>0].sort_values(\"CNT\", ascending=False))\n",
    "\n",
    "nan_df[nan_df[\"RATE\"]>0].shape"
   ]
  },
  {
   "source": [
    "### category variables which use NA as a type  \n",
    "<pre>\n",
    "Alley\n",
    "BsmtQual\n",
    "BsmtCond\n",
    "BsmtExposure\n",
    "BsmtFinType1\n",
    "BsmyFinType2\n",
    "FireplaceQu\n",
    "GarageType\n",
    "GarageFinish\n",
    "GarageQual\n",
    "GarageCond\n",
    "PoolQC\n",
    "Fence\n",
    "MiscFeature\n",
    "</pre>\n",
    "\n"
   ],
   "cell_type": "markdown",
   "metadata": {}
  },
  {
   "cell_type": "code",
   "execution_count": 9,
   "metadata": {},
   "outputs": [
    {
     "output_type": "execute_result",
     "data": {
      "text/plain": [
       "14"
      ]
     },
     "metadata": {},
     "execution_count": 9
    }
   ],
   "source": [
    "Not_NA=['Alley', 'BsmtQual','BsmtCond','BsmtExposure','BsmtFinType1','BsmtFinType2','FireplaceQu', 'GarageType',\n",
    "'GarageFinish','GarageQual','GarageCond','PoolQC','Fence','MiscFeature']\n",
    "len(Not_NA)"
   ]
  },
  {
   "source": [
    "#### Converting types: category varilables (obj --> numeric)"
   ],
   "cell_type": "markdown",
   "metadata": {}
  },
  {
   "cell_type": "code",
   "execution_count": 10,
   "metadata": {},
   "outputs": [
    {
     "output_type": "stream",
     "name": "stdout",
     "text": [
      "Alley [nan 'Grvl' 'Pave']\nBsmtQual ['Gd' 'TA' 'Ex' nan 'Fa']\nBsmtCond ['TA' 'Gd' nan 'Fa' 'Po']\nBsmtExposure ['No' 'Gd' 'Mn' 'Av' nan]\nBsmtFinType1 ['GLQ' 'ALQ' 'Unf' 'Rec' 'BLQ' nan 'LwQ']\nBsmtFinType2 ['Unf' 'BLQ' nan 'ALQ' 'Rec' 'LwQ' 'GLQ']\nFireplaceQu [nan 'TA' 'Gd' 'Fa' 'Ex' 'Po']\nGarageType ['Attchd' 'Detchd' 'BuiltIn' 'CarPort' nan 'Basment' '2Types']\nGarageFinish ['RFn' 'Unf' 'Fin' nan]\nGarageQual ['TA' 'Fa' 'Gd' nan 'Ex' 'Po']\nGarageCond ['TA' 'Fa' nan 'Gd' 'Po' 'Ex']\nPoolQC [nan 'Ex' 'Fa' 'Gd']\nFence [nan 'MnPrv' 'GdWo' 'GdPrv' 'MnWw']\nMiscFeature [nan 'Shed' 'Gar2' 'Othr' 'TenC']\n"
     ]
    }
   ],
   "source": [
    "for i in Not_NA:\n",
    "    print(i,train_test[i].unique())"
   ]
  },
  {
   "cell_type": "code",
   "execution_count": 11,
   "metadata": {},
   "outputs": [],
   "source": [
    "change_dict = [{'Grvl':1,'Pave':2}, {'Po':1,'Fa':2,'TA':3,'Gd':4,'Ex':5},\n",
    "{'Po':1,'Fa':2,'TA':3,'Gd':4,'Ex':5},{'No':1 ,'Gd':2, 'Mn':3, 'Av':4},\n",
    "{'GLQ':1, 'ALQ':2, 'Unf':3, 'Rec':4, 'BLQ':5, 'LwQ':6},\n",
    "{'Unf':1, 'BLQ':2,'ALQ':3, 'Rec':4, 'LwQ':5, 'GLQ':6},\n",
    "{'Po':1,'Fa':2,'TA':3,'Gd':4,'Ex':5},\n",
    "{'Attchd':1, 'Detchd':2, 'BuiltIn':3, 'CarPort':4,'Basment':5,'2Types':6},\n",
    "{'RFn':1, 'Unf':2, 'Fin':3},\n",
    "{'Po':1,'Fa':2,'TA':3,'Gd':4,'Ex':5},{'Po':1,'Fa':2,'TA':3,'Gd':4,'Ex':5},\n",
    "{'Po':1,'Fa':2,'TA':3,'Gd':4,'Ex':5},{'MnPrv':1, 'GdWo':2, 'GdPrv':3, 'MnWw':4},\n",
    "{'Shed':1,'Gar2':2, 'Othr':3, 'TenC':4}]\n",
    "\n"
   ]
  },
  {
   "cell_type": "code",
   "execution_count": 12,
   "metadata": {},
   "outputs": [],
   "source": [
    "for i in range(len(Not_NA)):\n",
    "    train_test[\"T_\"+Not_NA[i]] = train_test[Not_NA[i]].map(change_dict[i])\n",
    "    train_test[\"T_\"+Not_NA[i]].fillna(0, inplace= True)"
   ]
  },
  {
   "cell_type": "code",
   "execution_count": 13,
   "metadata": {},
   "outputs": [
    {
     "output_type": "stream",
     "name": "stdout",
     "text": [
      "2721\n",
      "2721\n",
      "------------------------------\n",
      "81\n",
      "81\n",
      "------------------------------\n",
      "82\n",
      "82\n",
      "------------------------------\n",
      "82\n",
      "82\n",
      "------------------------------\n",
      "79\n",
      "79\n",
      "------------------------------\n",
      "80\n",
      "80\n",
      "------------------------------\n",
      "1420\n",
      "1420\n",
      "------------------------------\n",
      "157\n",
      "157\n",
      "------------------------------\n",
      "159\n",
      "159\n",
      "------------------------------\n",
      "159\n",
      "159\n",
      "------------------------------\n",
      "159\n",
      "159\n",
      "------------------------------\n",
      "2909\n",
      "2909\n",
      "------------------------------\n",
      "2348\n",
      "2348\n",
      "------------------------------\n",
      "2814\n",
      "2814\n",
      "------------------------------\n"
     ]
    }
   ],
   "source": [
    "for i in range(len(Not_NA)):\n",
    "    print(train_test[train_test[\"T_\"+Not_NA[i]]==0].shape[0]) # 0의 개수\n",
    "    print(train_test[Not_NA[i]].isna().sum()) #원래 NA 개수\n",
    "    print(\"-\"*30)"
   ]
  },
  {
   "cell_type": "code",
   "execution_count": 14,
   "metadata": {},
   "outputs": [],
   "source": [
    "train_test.drop(Not_NA, axis=1, inplace= True)"
   ]
  },
  {
   "cell_type": "code",
   "execution_count": 15,
   "metadata": {},
   "outputs": [
    {
     "output_type": "execute_result",
     "data": {
      "text/plain": [
       "(2919, 81)"
      ]
     },
     "metadata": {},
     "execution_count": 15
    }
   ],
   "source": [
    "train_test.shape"
   ]
  },
  {
   "cell_type": "code",
   "execution_count": 16,
   "metadata": {},
   "outputs": [
    {
     "output_type": "stream",
     "name": "stdout",
     "text": [
      "               CNT       RATE\nSalePrice     1459  49.982871\nLotFrontage    486  16.649538\nGarageYrBlt    159   5.447071\nMasVnrType      24   0.822199\nMasVnrArea      23   0.787941\nMSZoning         4   0.137033\nBsmtFullBath     2   0.068517\nBsmtHalfBath     2   0.068517\nFunctional       2   0.068517\nUtilities        2   0.068517\nExterior2nd      1   0.034258\nBsmtFinSF1       1   0.034258\nBsmtFinSF2       1   0.034258\nBsmtUnfSF        1   0.034258\nExterior1st      1   0.034258\nElectrical       1   0.034258\nKitchenQual      1   0.034258\nGarageCars       1   0.034258\nGarageArea       1   0.034258\nSaleType         1   0.034258\nTotalBsmtSF      1   0.034258\n"
     ]
    },
    {
     "output_type": "execute_result",
     "data": {
      "text/plain": [
       "(21, 2)"
      ]
     },
     "metadata": {},
     "execution_count": 16
    }
   ],
   "source": [
    "#남은 결측치 확인\n",
    "nan_dict = {\"CNT\":train_test.isna().sum(),\n",
    "            \"RATE\": train_test.isna().sum()/train_test.shape[0] *100\n",
    "}\n",
    "nan_df = pd.DataFrame(nan_dict)\n",
    "print(nan_df[nan_df[\"RATE\"]>0].sort_values(\"CNT\", ascending=False))\n",
    "\n",
    "nan_df[nan_df[\"RATE\"]>0].shape\n",
    "\n",
    "# LotFrontage: Linear feet of street connected to property float\n",
    "# GarageYrBlt: Year garage was built\n",
    "# MasVnrType: Masonry veneer type 건물 외벽 object\n",
    "# MasVnrArea: Masonry veneer area in square feet float\n",
    "# Electrical: Electrical system object"
   ]
  },
  {
   "cell_type": "code",
   "execution_count": 17,
   "metadata": {},
   "outputs": [],
   "source": [
    "real_NA = list(nan_df[nan_df[\"RATE\"]>0].index)\n",
    "\n",
    "train_test['LotFrontage'] = train_test.groupby('Neighborhood')['LotFrontage'].transform(lambda x: x.fillna(x.median()))\n",
    "\n",
    "real_NA.remove('LotFrontage')\n",
    "\n",
    "for i in real_NA:\n",
    "    train_test[i].fillna(train_test[i].mode()[0], inplace= True)"
   ]
  },
  {
   "source": [
    "## Numeric"
   ],
   "cell_type": "markdown",
   "metadata": {}
  },
  {
   "cell_type": "code",
   "execution_count": 19,
   "metadata": {},
   "outputs": [],
   "source": [
    "object_col= train_test.dtypes[train_test.dtypes == object].index"
   ]
  },
  {
   "cell_type": "code",
   "execution_count": 20,
   "metadata": {},
   "outputs": [
    {
     "output_type": "execute_result",
     "data": {
      "text/plain": [
       "Index(['MSZoning', 'Street', 'LotShape', 'LandContour', 'Utilities',\n",
       "       'LotConfig', 'LandSlope', 'Neighborhood', 'Condition1', 'Condition2',\n",
       "       'BldgType', 'HouseStyle', 'RoofStyle', 'RoofMatl', 'Exterior1st',\n",
       "       'Exterior2nd', 'MasVnrType', 'ExterQual', 'ExterCond', 'Foundation',\n",
       "       'Heating', 'HeatingQC', 'CentralAir', 'Electrical', 'KitchenQual',\n",
       "       'Functional', 'PavedDrive', 'SaleType', 'SaleCondition'],\n",
       "      dtype='object')"
      ]
     },
     "metadata": {},
     "execution_count": 20
    }
   ],
   "source": [
    "object_col"
   ]
  },
  {
   "cell_type": "code",
   "execution_count": 21,
   "metadata": {},
   "outputs": [],
   "source": [
    "# ##get dummies 인코딩\n",
    "# df_copy = df.copy()\n",
    "# for i in range(len(object_col)):\n",
    "#     dummy_df = pd.get_dummies(df[object_col[i]])\n",
    "#     df_copy = pd.concat([df_copy,dummy_df], axis =1)\n",
    "#     # df = df.join(dummy_df)\n",
    "\n",
    "# # dummy_df = pd.get_dummies(df[object_col[0]])\n",
    "# # df_copy = pd.concat([df_copy,dummy_df], axis=1)\n",
    "    "
   ]
  },
  {
   "cell_type": "code",
   "execution_count": 22,
   "metadata": {},
   "outputs": [],
   "source": [
    "# Label 인코딩\n",
    "from sklearn.preprocessing import LabelEncoder, OneHotEncoder\n",
    "le_encoder = LabelEncoder()\n",
    "\n",
    "for col in object_col:   \n",
    "    train_test[\"LE_\"+col] = le_encoder.fit_transform(train_test[col])    "
   ]
  },
  {
   "cell_type": "code",
   "execution_count": 23,
   "metadata": {},
   "outputs": [],
   "source": [
    "#기존 컬럼 삭제\n",
    "train_test.drop(object_col, axis = 1, inplace= True)"
   ]
  },
  {
   "cell_type": "code",
   "execution_count": 24,
   "metadata": {},
   "outputs": [
    {
     "output_type": "execute_result",
     "data": {
      "text/plain": [
       "Index([], dtype='object')"
      ]
     },
     "metadata": {},
     "execution_count": 24
    }
   ],
   "source": [
    "#남은 object type 있는지 확인\n",
    "train_test.dtypes[train_test.dtypes == object].index"
   ]
  },
  {
   "source": [
    "## Scaling"
   ],
   "cell_type": "markdown",
   "metadata": {}
  },
  {
   "cell_type": "code",
   "execution_count": 29,
   "metadata": {},
   "outputs": [],
   "source": [
    "y_df = dataset[\"SalePrice\"]"
   ]
  },
  {
   "cell_type": "code",
   "execution_count": 30,
   "metadata": {},
   "outputs": [],
   "source": [
    "#log transform skewed numeric features:\n",
    "from scipy.stats import skew\n",
    "numeric_feats = train_test.dtypes[train_test.dtypes != \"object\"].index\n",
    "skewed_feats =  train_test[numeric_feats].apply(lambda x: skew(x.dropna())) #compute skewness\n",
    "skewed_feats = skewed_feats[skewed_feats > 0.75]\n",
    "skewed_feats =skewed_feats.index\n",
    "\n",
    "train_test[skewed_feats] = np.log1p(train_test[skewed_feats])\n",
    "#y값 스케일링\n",
    "y_df  = np.log1p(y_df)"
   ]
  },
  {
   "cell_type": "code",
   "execution_count": 31,
   "metadata": {},
   "outputs": [
    {
     "output_type": "error",
     "ename": "KeyError",
     "evalue": "\"['Id'] not found in axis\"",
     "traceback": [
      "\u001b[1;31m---------------------------------------------------------------------------\u001b[0m",
      "\u001b[1;31mKeyError\u001b[0m                                  Traceback (most recent call last)",
      "\u001b[1;32m<ipython-input-31-3e87745abe9a>\u001b[0m in \u001b[0;36m<module>\u001b[1;34m\u001b[0m\n\u001b[0;32m      1\u001b[0m \u001b[1;31m#Id 제거\u001b[0m\u001b[1;33m\u001b[0m\u001b[1;33m\u001b[0m\u001b[1;33m\u001b[0m\u001b[0m\n\u001b[1;32m----> 2\u001b[1;33m \u001b[0mtrain_test\u001b[0m\u001b[1;33m.\u001b[0m\u001b[0mdrop\u001b[0m\u001b[1;33m(\u001b[0m\u001b[1;34m\"Id\"\u001b[0m\u001b[1;33m,\u001b[0m \u001b[0maxis\u001b[0m\u001b[1;33m=\u001b[0m\u001b[1;36m1\u001b[0m\u001b[1;33m,\u001b[0m \u001b[0minplace\u001b[0m\u001b[1;33m=\u001b[0m \u001b[1;32mTrue\u001b[0m\u001b[1;33m)\u001b[0m\u001b[1;33m\u001b[0m\u001b[1;33m\u001b[0m\u001b[0m\n\u001b[0m",
      "\u001b[1;32mC:\\Anaconda3\\lib\\site-packages\\pandas\\core\\frame.py\u001b[0m in \u001b[0;36mdrop\u001b[1;34m(self, labels, axis, index, columns, level, inplace, errors)\u001b[0m\n\u001b[0;32m   4161\u001b[0m                 \u001b[0mweight\u001b[0m  \u001b[1;36m1.0\u001b[0m     \u001b[1;36m0.8\u001b[0m\u001b[1;33m\u001b[0m\u001b[1;33m\u001b[0m\u001b[0m\n\u001b[0;32m   4162\u001b[0m         \"\"\"\n\u001b[1;32m-> 4163\u001b[1;33m         return super().drop(\n\u001b[0m\u001b[0;32m   4164\u001b[0m             \u001b[0mlabels\u001b[0m\u001b[1;33m=\u001b[0m\u001b[0mlabels\u001b[0m\u001b[1;33m,\u001b[0m\u001b[1;33m\u001b[0m\u001b[1;33m\u001b[0m\u001b[0m\n\u001b[0;32m   4165\u001b[0m             \u001b[0maxis\u001b[0m\u001b[1;33m=\u001b[0m\u001b[0maxis\u001b[0m\u001b[1;33m,\u001b[0m\u001b[1;33m\u001b[0m\u001b[1;33m\u001b[0m\u001b[0m\n",
      "\u001b[1;32mC:\\Anaconda3\\lib\\site-packages\\pandas\\core\\generic.py\u001b[0m in \u001b[0;36mdrop\u001b[1;34m(self, labels, axis, index, columns, level, inplace, errors)\u001b[0m\n\u001b[0;32m   3885\u001b[0m         \u001b[1;32mfor\u001b[0m \u001b[0maxis\u001b[0m\u001b[1;33m,\u001b[0m \u001b[0mlabels\u001b[0m \u001b[1;32min\u001b[0m \u001b[0maxes\u001b[0m\u001b[1;33m.\u001b[0m\u001b[0mitems\u001b[0m\u001b[1;33m(\u001b[0m\u001b[1;33m)\u001b[0m\u001b[1;33m:\u001b[0m\u001b[1;33m\u001b[0m\u001b[1;33m\u001b[0m\u001b[0m\n\u001b[0;32m   3886\u001b[0m             \u001b[1;32mif\u001b[0m \u001b[0mlabels\u001b[0m \u001b[1;32mis\u001b[0m \u001b[1;32mnot\u001b[0m \u001b[1;32mNone\u001b[0m\u001b[1;33m:\u001b[0m\u001b[1;33m\u001b[0m\u001b[1;33m\u001b[0m\u001b[0m\n\u001b[1;32m-> 3887\u001b[1;33m                 \u001b[0mobj\u001b[0m \u001b[1;33m=\u001b[0m \u001b[0mobj\u001b[0m\u001b[1;33m.\u001b[0m\u001b[0m_drop_axis\u001b[0m\u001b[1;33m(\u001b[0m\u001b[0mlabels\u001b[0m\u001b[1;33m,\u001b[0m \u001b[0maxis\u001b[0m\u001b[1;33m,\u001b[0m \u001b[0mlevel\u001b[0m\u001b[1;33m=\u001b[0m\u001b[0mlevel\u001b[0m\u001b[1;33m,\u001b[0m \u001b[0merrors\u001b[0m\u001b[1;33m=\u001b[0m\u001b[0merrors\u001b[0m\u001b[1;33m)\u001b[0m\u001b[1;33m\u001b[0m\u001b[1;33m\u001b[0m\u001b[0m\n\u001b[0m\u001b[0;32m   3888\u001b[0m \u001b[1;33m\u001b[0m\u001b[0m\n\u001b[0;32m   3889\u001b[0m         \u001b[1;32mif\u001b[0m \u001b[0minplace\u001b[0m\u001b[1;33m:\u001b[0m\u001b[1;33m\u001b[0m\u001b[1;33m\u001b[0m\u001b[0m\n",
      "\u001b[1;32mC:\\Anaconda3\\lib\\site-packages\\pandas\\core\\generic.py\u001b[0m in \u001b[0;36m_drop_axis\u001b[1;34m(self, labels, axis, level, errors)\u001b[0m\n\u001b[0;32m   3919\u001b[0m                 \u001b[0mnew_axis\u001b[0m \u001b[1;33m=\u001b[0m \u001b[0maxis\u001b[0m\u001b[1;33m.\u001b[0m\u001b[0mdrop\u001b[0m\u001b[1;33m(\u001b[0m\u001b[0mlabels\u001b[0m\u001b[1;33m,\u001b[0m \u001b[0mlevel\u001b[0m\u001b[1;33m=\u001b[0m\u001b[0mlevel\u001b[0m\u001b[1;33m,\u001b[0m \u001b[0merrors\u001b[0m\u001b[1;33m=\u001b[0m\u001b[0merrors\u001b[0m\u001b[1;33m)\u001b[0m\u001b[1;33m\u001b[0m\u001b[1;33m\u001b[0m\u001b[0m\n\u001b[0;32m   3920\u001b[0m             \u001b[1;32melse\u001b[0m\u001b[1;33m:\u001b[0m\u001b[1;33m\u001b[0m\u001b[1;33m\u001b[0m\u001b[0m\n\u001b[1;32m-> 3921\u001b[1;33m                 \u001b[0mnew_axis\u001b[0m \u001b[1;33m=\u001b[0m \u001b[0maxis\u001b[0m\u001b[1;33m.\u001b[0m\u001b[0mdrop\u001b[0m\u001b[1;33m(\u001b[0m\u001b[0mlabels\u001b[0m\u001b[1;33m,\u001b[0m \u001b[0merrors\u001b[0m\u001b[1;33m=\u001b[0m\u001b[0merrors\u001b[0m\u001b[1;33m)\u001b[0m\u001b[1;33m\u001b[0m\u001b[1;33m\u001b[0m\u001b[0m\n\u001b[0m\u001b[0;32m   3922\u001b[0m             \u001b[0mresult\u001b[0m \u001b[1;33m=\u001b[0m \u001b[0mself\u001b[0m\u001b[1;33m.\u001b[0m\u001b[0mreindex\u001b[0m\u001b[1;33m(\u001b[0m\u001b[1;33m**\u001b[0m\u001b[1;33m{\u001b[0m\u001b[0maxis_name\u001b[0m\u001b[1;33m:\u001b[0m \u001b[0mnew_axis\u001b[0m\u001b[1;33m}\u001b[0m\u001b[1;33m)\u001b[0m\u001b[1;33m\u001b[0m\u001b[1;33m\u001b[0m\u001b[0m\n\u001b[0;32m   3923\u001b[0m \u001b[1;33m\u001b[0m\u001b[0m\n",
      "\u001b[1;32mC:\\Anaconda3\\lib\\site-packages\\pandas\\core\\indexes\\base.py\u001b[0m in \u001b[0;36mdrop\u001b[1;34m(self, labels, errors)\u001b[0m\n\u001b[0;32m   5280\u001b[0m         \u001b[1;32mif\u001b[0m \u001b[0mmask\u001b[0m\u001b[1;33m.\u001b[0m\u001b[0many\u001b[0m\u001b[1;33m(\u001b[0m\u001b[1;33m)\u001b[0m\u001b[1;33m:\u001b[0m\u001b[1;33m\u001b[0m\u001b[1;33m\u001b[0m\u001b[0m\n\u001b[0;32m   5281\u001b[0m             \u001b[1;32mif\u001b[0m \u001b[0merrors\u001b[0m \u001b[1;33m!=\u001b[0m \u001b[1;34m\"ignore\"\u001b[0m\u001b[1;33m:\u001b[0m\u001b[1;33m\u001b[0m\u001b[1;33m\u001b[0m\u001b[0m\n\u001b[1;32m-> 5282\u001b[1;33m                 \u001b[1;32mraise\u001b[0m \u001b[0mKeyError\u001b[0m\u001b[1;33m(\u001b[0m\u001b[1;34mf\"{labels[mask]} not found in axis\"\u001b[0m\u001b[1;33m)\u001b[0m\u001b[1;33m\u001b[0m\u001b[1;33m\u001b[0m\u001b[0m\n\u001b[0m\u001b[0;32m   5283\u001b[0m             \u001b[0mindexer\u001b[0m \u001b[1;33m=\u001b[0m \u001b[0mindexer\u001b[0m\u001b[1;33m[\u001b[0m\u001b[1;33m~\u001b[0m\u001b[0mmask\u001b[0m\u001b[1;33m]\u001b[0m\u001b[1;33m\u001b[0m\u001b[1;33m\u001b[0m\u001b[0m\n\u001b[0;32m   5284\u001b[0m         \u001b[1;32mreturn\u001b[0m \u001b[0mself\u001b[0m\u001b[1;33m.\u001b[0m\u001b[0mdelete\u001b[0m\u001b[1;33m(\u001b[0m\u001b[0mindexer\u001b[0m\u001b[1;33m)\u001b[0m\u001b[1;33m\u001b[0m\u001b[1;33m\u001b[0m\u001b[0m\n",
      "\u001b[1;31mKeyError\u001b[0m: \"['Id'] not found in axis\""
     ]
    }
   ],
   "source": [
    "#Id 제거\n",
    "train_test.drop(\"Id\", axis=1, inplace= True)"
   ]
  },
  {
   "cell_type": "code",
   "execution_count": 32,
   "metadata": {},
   "outputs": [],
   "source": [
    "X_df = train_test.iloc[:1460,:]\n",
    "test_df =train_test.iloc[1460:,:]"
   ]
  },
  {
   "source": [
    "# 회귀분석"
   ],
   "cell_type": "markdown",
   "metadata": {}
  },
  {
   "cell_type": "code",
   "execution_count": 33,
   "metadata": {},
   "outputs": [
    {
     "output_type": "execute_result",
     "data": {
      "text/plain": [
       "MSSubClass          0\n",
       "LotFrontage         0\n",
       "LotArea             0\n",
       "OverallQual         0\n",
       "OverallCond         0\n",
       "                   ..\n",
       "LE_KitchenQual      0\n",
       "LE_Functional       0\n",
       "LE_PavedDrive       0\n",
       "LE_SaleType         0\n",
       "LE_SaleCondition    0\n",
       "Length: 80, dtype: int64"
      ]
     },
     "metadata": {},
     "execution_count": 33
    }
   ],
   "source": [
    "train_test.isna().sum()"
   ]
  },
  {
   "source": [
    "## 우선 점수부터 보자"
   ],
   "cell_type": "markdown",
   "metadata": {}
  },
  {
   "cell_type": "code",
   "execution_count": 36,
   "metadata": {},
   "outputs": [
    {
     "output_type": "stream",
     "name": "stdout",
     "text": [
      "(1168, 80) (292, 80) (1168,) (292,)\nMSE:0.00006 RMSE 0.00745\n"
     ]
    }
   ],
   "source": [
    "X_train , X_val, y_train, y_val = train_test_split(X_df, y_df, test_size=0.2, shuffle = True,random_state=121)\n",
    "print(X_train.shape, X_val.shape, y_train.shape, y_val.shape)\n",
    "\n",
    "model1 = LinearRegression()\n",
    "model1.fit(X_train,y_train)\n",
    "\n",
    "pred = model1.predict(X_val)\n",
    "mse = mean_squared_error(y_val, pred, squared = True) #MSE\n",
    "rmse = mean_squared_error(y_val, pred, squared = False) #RMSE\n",
    "\n",
    "print(f'MSE:{mse:.5f} RMSE {rmse:.5f}')\n",
    "\n",
    "#dummy\n",
    "#MSE:183766087910688064.00000 RMSE 428679469.89643 처음\n",
    "#MSE:728536469.52603 RMSE 26991.41474 Id 제거\n",
    "#MSE:969745875.68496 RMSE 31140.74302 scale 후에\n",
    "#MSE:908127775.78686 RMSE 30135.15847 scale 후에\n",
    "\n",
    "#-----------------------------------------------------------\n",
    "#Label\n",
    "# MSE:827344230.24246 RMSE 28763.59210 처음\n",
    "# MSE:954940616.83012 RMSE 30902.11347 스케일 후\n",
    "# MSE:1593369743.02272 RMSE 39917.03575 pca 후\n",
    "\n",
    "\n",
    "\n",
    "\n",
    "\n",
    "\n",
    "\n"
   ]
  },
  {
   "cell_type": "code",
   "execution_count": 49,
   "metadata": {},
   "outputs": [
    {
     "output_type": "stream",
     "name": "stdout",
     "text": [
      "Lasso MSE: 0.0719 RMSE: 0.2674\n",
      "Ridge MSE: 0.0147 RMSE: 0.1191\n",
      "ElasticNet MSE: 0.0212 RMSE: 0.1441\n"
     ]
    }
   ],
   "source": [
    "from sklearn.linear_model import Ridge, Lasso, ElasticNet\n",
    "lasso = Lasso(alpha = 1.0)\n",
    "ridge = Ridge(alpha = 1.0)\n",
    "elsnet = ElasticNet(alpha = 0.05, l1_ratio =0.1)\n",
    "\n",
    "#RMSE mean, MSE mean, fold\n",
    "models = [lasso, ridge, elsnet]\n",
    "    # models = [LinearRegression()]\n",
    "for model in models:\n",
    "    score_list = cross_validate(model, X_df, y_df, \n",
    "                                 scoring = {'mse':'neg_mean_squared_error',\n",
    "                                            'rmse':'neg_root_mean_squared_error'},\n",
    "                                 cv= 10, return_train_score = False)\n",
    "    mse_score = -score_list['test_mse']\n",
    "    rmse_score = -score_list['test_rmse']\n",
    "    print(f'{model.__class__.__name__} MSE: {mse_score.mean():.4f} RMSE: {rmse_score.mean():.4f}')"
   ]
  },
  {
   "cell_type": "code",
   "execution_count": 56,
   "metadata": {},
   "outputs": [
    {
     "output_type": "stream",
     "name": "stdout",
     "text": [
      "0.11901\n{'alpha': 0.5}\n"
     ]
    }
   ],
   "source": [
    "# cv_model = GridSearchCV(ridge, param_grid = {'alpha':[0.5,1.0]},\n",
    "#             scoring = \"neg_root_mean_squared_error\",\n",
    "#             cv = 10)\n",
    "# cv_model.fit(X_train, y_train)\n",
    "# print(f'{cv_model.best_score_*-1:.5f}')\n",
    "# print(cv_model.best_params_)"
   ]
  },
  {
   "cell_type": "code",
   "execution_count": 58,
   "metadata": {},
   "outputs": [
    {
     "output_type": "stream",
     "name": "stdout",
     "text": [
      "0.12956\n{'alpha': 1.0}\n"
     ]
    }
   ],
   "source": [
    "cv_model = GridSearchCV(ridge, param_grid = {'alpha':[1.0,2.0]},\n",
    "            scoring = \"neg_root_mean_squared_error\",\n",
    "            cv = 10)\n",
    "cv_model.fit(X_train, y_train)\n",
    "print(f'{cv_model.best_score_*-1:.5f}')\n",
    "print(cv_model.best_params_)"
   ]
  },
  {
   "cell_type": "code",
   "execution_count": 59,
   "metadata": {},
   "outputs": [],
   "source": [
    "## test \n",
    "test_pred = cv_model.predict(test_df)\n",
    "pred_for_submit = np.expm1(test_pred)"
   ]
  },
  {
   "cell_type": "code",
   "execution_count": 60,
   "metadata": {},
   "outputs": [
    {
     "output_type": "execute_result",
     "data": {
      "text/plain": [
       "array([117032.53850006, 151737.7225479 , 173480.52245195, ...,\n",
       "       165873.25792143, 128130.42180567, 223718.84363169])"
      ]
     },
     "metadata": {},
     "execution_count": 60
    }
   ],
   "source": [
    "pred_for_submit"
   ]
  },
  {
   "cell_type": "code",
   "execution_count": 61,
   "metadata": {},
   "outputs": [
    {
     "output_type": "execute_result",
     "data": {
      "text/plain": [
       "(1459, 2)"
      ]
     },
     "metadata": {},
     "execution_count": 61
    }
   ],
   "source": [
    "sub_df[\"SalePrice\"] = pred_for_submit.reshape(-1,1)\n",
    "sub_df.shape"
   ]
  },
  {
   "cell_type": "code",
   "execution_count": 62,
   "metadata": {},
   "outputs": [
    {
     "output_type": "execute_result",
     "data": {
      "text/plain": [
       "     Id      SalePrice\n",
       "0  1461  117032.538500\n",
       "1  1462  151737.722548\n",
       "2  1463  173480.522452\n",
       "3  1464  188280.802994\n",
       "4  1465  183277.578269"
      ],
      "text/html": "<div>\n<style scoped>\n    .dataframe tbody tr th:only-of-type {\n        vertical-align: middle;\n    }\n\n    .dataframe tbody tr th {\n        vertical-align: top;\n    }\n\n    .dataframe thead th {\n        text-align: right;\n    }\n</style>\n<table border=\"1\" class=\"dataframe\">\n  <thead>\n    <tr style=\"text-align: right;\">\n      <th></th>\n      <th>Id</th>\n      <th>SalePrice</th>\n    </tr>\n  </thead>\n  <tbody>\n    <tr>\n      <th>0</th>\n      <td>1461</td>\n      <td>117032.538500</td>\n    </tr>\n    <tr>\n      <th>1</th>\n      <td>1462</td>\n      <td>151737.722548</td>\n    </tr>\n    <tr>\n      <th>2</th>\n      <td>1463</td>\n      <td>173480.522452</td>\n    </tr>\n    <tr>\n      <th>3</th>\n      <td>1464</td>\n      <td>188280.802994</td>\n    </tr>\n    <tr>\n      <th>4</th>\n      <td>1465</td>\n      <td>183277.578269</td>\n    </tr>\n  </tbody>\n</table>\n</div>"
     },
     "metadata": {},
     "execution_count": 62
    }
   ],
   "source": [
    "sub_df.head()"
   ]
  },
  {
   "cell_type": "code",
   "execution_count": 63,
   "metadata": {},
   "outputs": [],
   "source": [
    "sub_df.to_csv(\"results.csv\", index= False)"
   ]
  },
  {
   "cell_type": "code",
   "execution_count": null,
   "metadata": {},
   "outputs": [],
   "source": []
  }
 ]
}