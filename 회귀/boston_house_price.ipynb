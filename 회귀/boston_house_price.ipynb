{
  "nbformat": 4,
  "nbformat_minor": 0,
  "metadata": {
    "colab": {
      "name": "boston_house_price.ipynb",
      "provenance": [],
      "authorship_tag": "ABX9TyMvnE9P/vO3TvxZIZb6eddT",
      "include_colab_link": true
    },
    "kernelspec": {
      "name": "python3",
      "display_name": "Python 3"
    },
    "language_info": {
      "name": "python"
    }
  },
  "cells": [
    {
      "cell_type": "markdown",
      "metadata": {
        "id": "view-in-github",
        "colab_type": "text"
      },
      "source": [
        "<a href=\"https://colab.research.google.com/github/christine127/Kaggle/blob/main/boston_house_price.ipynb\" target=\"_parent\"><img src=\"https://colab.research.google.com/assets/colab-badge.svg\" alt=\"Open In Colab\"/></a>"
      ]
    },
    {
      "cell_type": "code",
      "metadata": {
        "id": "9VRni1vD37gc"
      },
      "source": [
        "from sklearn.datasets import load_boston\n",
        "import numpy as np\n",
        "import pandas as pd\n",
        "import seaborn as sns\n",
        "import matplotlib.pyplot as plt\n",
        "import warnings\n",
        "warnings.filterwarnings('ignore')\n",
        "\n",
        "\n",
        "from sklearn.linear_model import LinearRegression, Lasso, Ridge, ElasticNet\n",
        "from sklearn.ensemble import RandomForestRegressor, GradientBoostingRegressor, StackingRegressor\n",
        "from xgboost import XGBRegressor\n",
        "from sklearn.tree import DecisionTreeRegressor\n",
        "from sklearn.model_selection import StratifiedKFold, KFold, GridSearchCV,cross_val_score, cross_validate, train_test_split\n",
        "from sklearn.metrics import mean_squared_error, mean_absolute_error, mean_squared_log_error #--squared = 'True' #MSE, squared= 'False' #RMSE\n",
        "\n",
        "dataset = load_boston()\n",
        "df = pd.DataFrame(dataset.data, columns = dataset.feature_names)\n",
        "df['target'] = dataset.target"
      ],
      "execution_count": 112,
      "outputs": []
    },
    {
      "cell_type": "code",
      "metadata": {
        "id": "2A02MuV1Bvd-"
      },
      "source": [
        "#전부 다 로그스케일\n",
        "df= np.log1p(df)\n",
        "X,y= df.drop('target', axis=1), df['target']"
      ],
      "execution_count": 113,
      "outputs": []
    },
    {
      "cell_type": "code",
      "metadata": {
        "id": "sWXFPXLX6wB7"
      },
      "source": [
        "# from scipy.stats import skew\n",
        "# skewed_features = df.apply(lambda x: skew(x))\n",
        "# skewed_features = skewed_features[abs(skewed_features)>0.75].index\n",
        "# print(skewed_features)"
      ],
      "execution_count": 83,
      "outputs": []
    },
    {
      "cell_type": "code",
      "metadata": {
        "id": "RuK6Ru4o-KIF"
      },
      "source": [
        "# for col in rest_cols:\n",
        "#   q1,q3 = np.percentile(df[col], [25,75])\n",
        "#   iqr =q3-q1\n",
        "#   lower_bound = q1-iqr*1.5\n",
        "#   upper_bound = q3+ iqr*1.5\n",
        "#   outliers = df[col][(df[col]<lower_bound)|(df[col]>upper_bound)]\n",
        "#   print(col, len(outliers))\n",
        "# df[rest_cols] =std_scaler.fit_transform(df[rest_cols])"
      ],
      "execution_count": 84,
      "outputs": []
    },
    {
      "cell_type": "code",
      "metadata": {
        "id": "wdjlei1aIgcS"
      },
      "source": [
        "##연습을 위해  train,test 분리\n",
        "X_train,X_test, y_train,y_test = train_test_split(X,y, test_size = 0.2, shuffle=True, random_state= 121)"
      ],
      "execution_count": 114,
      "outputs": []
    },
    {
      "cell_type": "code",
      "metadata": {
        "colab": {
          "base_uri": "https://localhost:8080/"
        },
        "id": "TIyMeNeq_bCN",
        "outputId": "f1a41e1a-4aff-447b-ff1f-9633457e94ed"
      },
      "source": [
        "linear_reg = LinearRegression()\n",
        "kf = KFold(n_splits = 10, shuffle= False)\n",
        "cross_val_score(linear_reg,X_train,y_train, cv = kf, scoring= 'neg_root_mean_squared_error')"
      ],
      "execution_count": 115,
      "outputs": [
        {
          "output_type": "execute_result",
          "data": {
            "text/plain": [
              "array([-0.21881323, -0.23067354, -0.16269162, -0.13193866, -0.21629356,\n",
              "       -0.16451957, -0.14928201, -0.14535854, -0.15958753, -0.19312217])"
            ]
          },
          "metadata": {
            "tags": []
          },
          "execution_count": 115
        }
      ]
    },
    {
      "cell_type": "code",
      "metadata": {
        "colab": {
          "base_uri": "https://localhost:8080/"
        },
        "id": "A4mu9DUcAhuL",
        "outputId": "2385ded3-0cce-4c71-d94d-c25a1143710d"
      },
      "source": [
        "linear_reg.fit(X_train,y_train)\n",
        "linear_reg.coef_"
      ],
      "execution_count": 116,
      "outputs": [
        {
          "output_type": "execute_result",
          "data": {
            "text/plain": [
              "array([-0.1202732 , -0.00613582, -0.01015895,  0.16186106, -0.90661023,\n",
              "        0.50417989,  0.02172324, -0.2283322 ,  0.15229626, -0.15110898,\n",
              "       -0.5518753 ,  0.05109765, -0.41310506])"
            ]
          },
          "metadata": {
            "tags": []
          },
          "execution_count": 116
        }
      ]
    },
    {
      "cell_type": "code",
      "metadata": {
        "id": "_TcH4BB4ClLU"
      },
      "source": [
        "lasso = Lasso(alpha= 1.0)\n",
        "ridge = Ridge(alpha = 1.0)\n",
        "elsnet = ElasticNet(alpha = 1.0, l1_ratio = 0.2)\n",
        "rf = RandomForestRegressor() \n",
        "gbr = GradientBoostingRegressor() \n",
        "xgb = XGBRegressor(objective='reg:squarederror')"
      ],
      "execution_count": 105,
      "outputs": []
    },
    {
      "cell_type": "code",
      "metadata": {
        "colab": {
          "base_uri": "https://localhost:8080/"
        },
        "id": "30dVqYYBFpXA",
        "outputId": "a5ea5a2b-7a63-4df7-aed7-74105d56950e"
      },
      "source": [
        "models = [lasso, ridge, elsnet, rf, gbr, xgb]\n",
        "for model in models:\n",
        "  rmse = cross_val_score(model,X_train,y_train, cv= kf, scoring = 'neg_root_mean_squared_error')\n",
        "  print(model.__class__.__name__,rmse.mean())\n"
      ],
      "execution_count": 117,
      "outputs": [
        {
          "output_type": "stream",
          "text": [
            "Lasso -0.3906487522495969\n",
            "Ridge -0.1781835231967844\n",
            "ElasticNet -0.37125732515164855\n",
            "RandomForestRegressor -0.14432321523901584\n",
            "GradientBoostingRegressor -0.13766613214608792\n",
            "XGBRegressor -0.1420931688674129\n"
          ],
          "name": "stdout"
        }
      ]
    },
    {
      "cell_type": "code",
      "metadata": {
        "colab": {
          "base_uri": "https://localhost:8080/"
        },
        "id": "EHQYl60mHyB0",
        "outputId": "0c27d916-4964-45f2-c422-a55eac8c5e3b"
      },
      "source": [
        "st_models = {('rf',rf),('ridge',ridge),('xgb',xgb)}\n",
        "stacking = StackingRegressor(estimators=st_models, final_estimator= gbr)\n",
        "rmse = cross_val_score(stacking,X_train,y_train, cv= kf, scoring = 'neg_root_mean_squared_error')\n",
        "print(stacking.__class__.__name__,rmse.mean()) #-0.20199037211243437"
      ],
      "execution_count": 118,
      "outputs": [
        {
          "output_type": "stream",
          "text": [
            "StackingRegressor -0.1517840457605278\n"
          ],
          "name": "stdout"
        }
      ]
    },
    {
      "cell_type": "code",
      "metadata": {
        "id": "9ULMFBovH_qB"
      },
      "source": [
        "gbr.fit(X_train, y_train)\n",
        "pred = gbr.predict(X_train)"
      ],
      "execution_count": 121,
      "outputs": []
    },
    {
      "cell_type": "code",
      "metadata": {
        "id": "aFQDVXTwJLIS"
      },
      "source": [
        "#target 스케일 원래대로 복구\n",
        "pred = np.expm1(pred)"
      ],
      "execution_count": 124,
      "outputs": []
    },
    {
      "cell_type": "code",
      "metadata": {
        "id": "sN9D5A3xJZe0"
      },
      "source": [
        ""
      ],
      "execution_count": null,
      "outputs": []
    }
  ]
}
