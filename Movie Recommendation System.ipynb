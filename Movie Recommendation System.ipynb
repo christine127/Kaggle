{
 "cells": [
  {
   "cell_type": "markdown",
   "metadata": {
    "ExecuteTime": {
     "end_time": "2021-08-23T02:35:22.019372Z",
     "start_time": "2021-08-23T02:35:21.999424Z"
    }
   },
   "source": [
    "* Demographic Filtering\n",
    "* Content Based Filtering\n",
    "* Collaborative Filtering"
   ]
  },
  {
   "cell_type": "code",
   "execution_count": 14,
   "metadata": {
    "ExecuteTime": {
     "end_time": "2021-08-23T02:42:03.022596Z",
     "start_time": "2021-08-23T02:42:02.039763Z"
    },
    "scrolled": false
   },
   "outputs": [
    {
     "name": "stdout",
     "output_type": "stream",
     "text": [
      "usage: kaggle competitions list [-h] [--group GROUP] [--category CATEGORY]\n",
      "                                [--sort-by SORT_BY] [-p PAGE] [-s SEARCH] [-v]\n",
      "\n",
      "optional arguments:\n",
      "  -h, --help            show this help message and exit\n",
      "  --group GROUP         Search for competitions in a specific group. Default is 'general'. Valid options are 'general', 'entered', and 'inClass'\n",
      "  --category CATEGORY   Search for competitions of a specific category. Default is 'all'. Valid options are 'all', 'featured', 'research', 'recruitment', 'gettingStarted', 'masters', and 'playground'\n",
      "  --sort-by SORT_BY     Sort list results. Default is 'latestDeadline'. Valid options are 'grouped', 'prize', 'earliestDeadline', 'latestDeadline', 'numberOfTeams', and 'recentlyCreated'\n",
      "  -p PAGE, --page PAGE  Page number for results paging. Page size is 20 by default\n",
      "  -s SEARCH, --search SEARCH\n",
      "                        Term(s) to search for\n",
      "  -v, --csv             Print results in CSV format (if not set print in table format)\n"
     ]
    }
   ],
   "source": [
    "!kaggle competitions list -h"
   ]
  },
  {
   "cell_type": "code",
   "execution_count": 24,
   "metadata": {
    "ExecuteTime": {
     "end_time": "2021-08-23T02:45:51.054904Z",
     "start_time": "2021-08-23T02:45:50.192522Z"
    }
   },
   "outputs": [
    {
     "name": "stdout",
     "output_type": "stream",
     "text": [
      "usage: kaggle competitions download [-h] [-f FILE_NAME] [-p PATH] [-w] [-o]\n",
      "                                    [-q]\n",
      "                                    [competition]\n",
      "\n",
      "optional arguments:\n",
      "  -h, --help            show this help message and exit\n",
      "  competition           Competition URL suffix (use \"kaggle competitions list\" to show options)\n",
      "                        If empty, the default competition will be used (use \"kaggle config set competition\")\"\n",
      "  -f FILE_NAME, --file FILE_NAME\n",
      "                        File name, all files downloaded if not provided\n",
      "                        (use \"kaggle competitions files -c <competition>\" to show options)\n",
      "  -p PATH, --path PATH  Folder where file(s) will be downloaded, defaults to current working directory\n",
      "  -w, --wp              Download files to current working path\n",
      "  -o, --force           Skip check whether local version of file is up to date, force file download\n",
      "  -q, --quiet           Suppress printing information about the upload/download progress\n"
     ]
    }
   ],
   "source": [
    "!kaggle competitions download -h"
   ]
  },
  {
   "cell_type": "code",
   "execution_count": 27,
   "metadata": {
    "ExecuteTime": {
     "end_time": "2021-08-23T02:47:36.235521Z",
     "start_time": "2021-08-23T02:47:34.403122Z"
    },
    "scrolled": true
   },
   "outputs": [
    {
     "name": "stdout",
     "output_type": "stream",
     "text": [
      "ref                                                             title                                              size  lastUpdated          downloadCount  voteCount  usabilityRating  \n",
      "--------------------------------------------------------------  ------------------------------------------------  -----  -------------------  -------------  ---------  ---------------  \n",
      "rounakbanik/the-movies-dataset                                  The Movies Dataset                                228MB  2017-11-10 02:40:38         162013       2556  0.8235294        \n",
      "shivamb/netflix-shows                                           Netflix Movies and TV Shows                         1MB  2021-01-18 16:20:26         159276       5391  1.0              \n",
      "stefanoleone992/imdb-extensive-dataset                          IMDb movies extensive dataset                      82MB  2020-09-14 19:02:52          28226        386  1.0              \n",
      "harshitshankhdhar/imdb-dataset-of-top-1000-movies-and-tv-shows  IMDB Movies Dataset                               175KB  2021-02-01 07:35:48           4853        108  1.0              \n",
      "prateekmaj21/disney-movies                                      Disney Movies                                      15KB  2020-04-18 15:12:10           1882         38  1.0              \n",
      "ruchi798/movies-on-netflix-prime-video-hulu-and-disney          Movies on Netflix, Prime Video, Hulu and Disney+  363KB  2021-08-02 06:38:56          15914        550  1.0              \n",
      "sankha1998/tmdb-top-10000-popular-movies-dataset                Popular Movies of IMDb                              1MB  2021-08-22 06:20:04            970         65  1.0              \n",
      "tmdb/tmdb-movie-metadata                                        TMDB 5000 Movie Dataset                             9MB  2017-09-28 01:09:12         164342       2771  0.8235294        \n",
      "stephanerappeneau/350-000-movies-from-themoviedborg             350 000+ movies from themoviedb.org                67MB  2017-10-12 19:49:17           4811        151  0.7647059        \n",
      "juzershakir/tmdb-movies-dataset                                 TMDb Movies Dataset                                 3MB  2018-03-24 04:18:19           2428         30  0.7058824        \n",
      "jrobischon/wikipedia-movie-plots                                Wikipedia Movie Plots                              30MB  2018-10-15 19:59:54          11745        382  0.88235295       \n",
      "danielgrijalvas/movies                                          Movie Industry                                    424KB  2021-07-23 19:48:26          11907        154  1.0              \n",
      "adrianmcmahon/imdb-india-movies                                 IMDb India Movies                                 494KB  2021-06-18 01:04:21            227         16  1.0              \n",
      "rashikrahmanpritom/disney-movies-19372016-total-gross           Disney Movies 1937-2016 Gross Income               15KB  2021-03-14 12:45:32           1098         48  1.0              \n",
      "stefanoleone992/filmtv-movies-dataset                           FilmTV movies dataset                              73MB  2019-11-28 21:07:01           1788         31  1.0              \n",
      "rashikrahmanpritom/heart-attack-analysis-prediction-dataset     Heart Attack Analysis & Prediction Dataset          4KB  2021-03-22 11:40:59          52721       2049  1.0              \n",
      "unanimad/disney-plus-shows                                      Disney Plus Movies and TV Shows                   149KB  2020-05-16 13:39:58           1684         41  1.0              \n",
      "pradyut23/movies                                                Movies                                            617KB  2020-08-30 08:57:29            135          6  1.0              \n",
      "alokdas527/bollywood-movies-analysis                            Bollywood Movies Dataset                          304KB  2019-09-29 20:18:06           1083         24  0.5882353        \n",
      "mathurinache/women-in-movies                                    Women in Movies                                    75KB  2021-03-06 10:15:41            156         17  1.0              \n"
     ]
    }
   ],
   "source": [
    "!kaggle datasets list -s the-movies-dataset"
   ]
  },
  {
   "cell_type": "code",
   "execution_count": 29,
   "metadata": {
    "ExecuteTime": {
     "end_time": "2021-08-23T02:50:46.840065Z",
     "start_time": "2021-08-23T02:49:44.016439Z"
    }
   },
   "outputs": [
    {
     "name": "stdout",
     "output_type": "stream",
     "text": [
      "Downloading the-movies-dataset.zip to C:\\Users\\chris\\0 hyunji\\kaggle\n",
      "\n"
     ]
    },
    {
     "name": "stderr",
     "output_type": "stream",
     "text": [
      "\n",
      "  0%|          | 0.00/228M [00:00<?, ?B/s]\n",
      "  0%|          | 1.00M/228M [00:00<00:33, 7.17MB/s]\n",
      "  1%|1         | 3.00M/228M [00:00<00:31, 7.38MB/s]\n",
      "  2%|2         | 5.00M/228M [00:00<00:29, 7.82MB/s]\n",
      "  3%|3         | 7.00M/228M [00:00<00:28, 8.06MB/s]\n",
      "  4%|3         | 9.00M/228M [00:01<00:26, 8.66MB/s]\n",
      "  4%|4         | 10.0M/228M [00:01<00:30, 7.49MB/s]\n",
      "  5%|5         | 12.0M/228M [00:01<00:26, 8.58MB/s]\n",
      "  6%|5         | 13.0M/228M [00:01<00:25, 8.81MB/s]\n",
      "  6%|6         | 14.0M/228M [00:01<00:28, 7.92MB/s]\n",
      "  7%|6         | 15.0M/228M [00:01<00:28, 7.83MB/s]\n",
      "  7%|7         | 17.0M/228M [00:02<00:25, 8.73MB/s]\n",
      "  8%|8         | 19.0M/228M [00:02<00:25, 8.52MB/s]\n",
      "  9%|8         | 20.0M/228M [00:02<00:28, 7.74MB/s]\n",
      "  9%|9         | 21.0M/228M [00:02<00:25, 8.37MB/s]\n",
      " 10%|9         | 22.0M/228M [00:02<00:25, 8.32MB/s]\n",
      " 10%|#         | 23.0M/228M [00:02<00:33, 6.38MB/s]\n",
      " 11%|#         | 24.0M/228M [00:03<00:46, 4.64MB/s]\n",
      " 11%|#         | 25.0M/228M [00:03<00:55, 3.83MB/s]\n",
      " 11%|#1        | 26.0M/228M [00:04<00:58, 3.61MB/s]\n",
      " 12%|#1        | 27.0M/228M [00:04<00:59, 3.56MB/s]\n",
      " 12%|#2        | 28.0M/228M [00:04<01:04, 3.25MB/s]\n",
      " 13%|#2        | 29.0M/228M [00:05<01:06, 3.15MB/s]\n",
      " 13%|#3        | 30.0M/228M [00:05<00:55, 3.76MB/s]\n",
      " 14%|#3        | 31.0M/228M [00:05<00:49, 4.17MB/s]\n",
      " 14%|#4        | 32.0M/228M [00:05<00:45, 4.51MB/s]\n",
      " 14%|#4        | 33.0M/228M [00:05<00:44, 4.61MB/s]\n",
      " 15%|#4        | 34.0M/228M [00:06<01:01, 3.29MB/s]\n",
      " 15%|#5        | 35.0M/228M [00:06<00:59, 3.39MB/s]\n",
      " 16%|#5        | 36.0M/228M [00:07<01:07, 2.98MB/s]\n",
      " 16%|#6        | 37.0M/228M [00:07<01:16, 2.62MB/s]\n",
      " 17%|#6        | 38.0M/228M [00:07<01:02, 3.17MB/s]\n",
      " 17%|#7        | 39.0M/228M [00:08<00:57, 3.43MB/s]\n",
      " 18%|#7        | 40.0M/228M [00:08<00:49, 3.96MB/s]\n",
      " 18%|#7        | 41.0M/228M [00:08<01:09, 2.80MB/s]\n",
      " 18%|#8        | 42.0M/228M [00:09<01:13, 2.65MB/s]\n",
      " 19%|#8        | 43.0M/228M [00:09<01:26, 2.23MB/s]\n",
      " 19%|#9        | 44.0M/228M [00:10<01:22, 2.32MB/s]\n",
      " 20%|#9        | 45.0M/228M [00:10<01:08, 2.78MB/s]\n",
      " 20%|##        | 46.0M/228M [00:10<00:58, 3.28MB/s]\n",
      " 21%|##        | 47.0M/228M [00:10<00:53, 3.57MB/s]\n",
      " 21%|##1       | 48.0M/228M [00:11<00:57, 3.30MB/s]\n",
      " 22%|##1       | 49.0M/228M [00:11<00:58, 3.23MB/s]\n",
      " 22%|##1       | 50.0M/228M [00:11<00:59, 3.15MB/s]\n",
      " 22%|##2       | 51.0M/228M [00:12<00:53, 3.46MB/s]\n",
      " 23%|##2       | 52.0M/228M [00:12<00:52, 3.48MB/s]\n",
      " 23%|##3       | 53.0M/228M [00:12<00:58, 3.11MB/s]\n",
      " 24%|##3       | 54.0M/228M [00:13<01:08, 2.64MB/s]\n",
      " 24%|##4       | 55.0M/228M [00:13<01:00, 3.01MB/s]\n",
      " 25%|##4       | 56.0M/228M [00:13<00:56, 3.18MB/s]\n",
      " 25%|##5       | 57.0M/228M [00:14<00:55, 3.21MB/s]\n",
      " 25%|##5       | 58.0M/228M [00:14<01:01, 2.92MB/s]\n",
      " 26%|##5       | 59.0M/228M [00:15<01:12, 2.45MB/s]\n",
      " 26%|##6       | 60.0M/228M [00:16<01:47, 1.63MB/s]\n",
      " 27%|##6       | 61.0M/228M [00:21<05:37, 518kB/s] \n",
      " 27%|##7       | 62.0M/228M [00:24<05:53, 492kB/s]\n",
      " 28%|##7       | 63.0M/228M [00:25<04:50, 594kB/s]\n",
      " 28%|##8       | 64.0M/228M [00:25<03:45, 762kB/s]\n",
      " 29%|##8       | 65.0M/228M [00:25<02:59, 951kB/s]\n",
      " 29%|##8       | 66.0M/228M [00:26<02:17, 1.23MB/s]\n",
      " 29%|##9       | 67.0M/228M [00:26<01:49, 1.53MB/s]\n",
      " 30%|##9       | 68.0M/228M [00:26<01:24, 1.97MB/s]\n",
      " 30%|###       | 69.0M/228M [00:26<01:07, 2.47MB/s]\n",
      " 31%|###       | 70.0M/228M [00:26<00:51, 3.20MB/s]\n",
      " 31%|###1      | 71.0M/228M [00:27<00:42, 3.91MB/s]\n",
      " 32%|###1      | 72.0M/228M [00:27<00:37, 4.40MB/s]\n",
      " 32%|###2      | 74.0M/228M [00:27<00:33, 4.76MB/s]\n",
      " 33%|###2      | 75.0M/228M [00:27<00:37, 4.26MB/s]\n",
      " 33%|###3      | 76.0M/228M [00:28<00:31, 5.06MB/s]\n",
      " 34%|###3      | 77.0M/228M [00:28<00:29, 5.32MB/s]\n",
      " 34%|###4      | 78.0M/228M [00:28<00:27, 5.65MB/s]\n",
      " 35%|###4      | 79.0M/228M [00:28<00:24, 6.34MB/s]\n",
      " 35%|###5      | 80.0M/228M [00:28<00:23, 6.61MB/s]\n",
      " 36%|###5      | 81.0M/228M [00:28<00:31, 4.93MB/s]\n",
      " 36%|###6      | 83.0M/228M [00:29<00:24, 6.11MB/s]\n",
      " 37%|###7      | 85.0M/228M [00:29<00:20, 7.14MB/s]\n",
      " 38%|###7      | 86.0M/228M [00:29<00:23, 6.23MB/s]\n",
      " 38%|###8      | 87.0M/228M [00:29<00:21, 6.85MB/s]\n",
      " 39%|###8      | 88.0M/228M [00:29<00:19, 7.61MB/s]\n",
      " 39%|###9      | 89.0M/228M [00:29<00:19, 7.61MB/s]\n",
      " 40%|###9      | 90.0M/228M [00:30<00:26, 5.49MB/s]\n",
      " 40%|###9      | 91.0M/228M [00:30<00:26, 5.51MB/s]\n",
      " 41%|####      | 93.0M/228M [00:30<00:22, 6.19MB/s]\n",
      " 42%|####1     | 95.0M/228M [00:30<00:18, 7.58MB/s]\n",
      " 43%|####2     | 97.0M/228M [00:31<00:23, 5.94MB/s]\n",
      " 43%|####3     | 99.0M/228M [00:31<00:19, 6.88MB/s]\n",
      " 44%|####3     | 100M/228M [00:31<00:29, 4.47MB/s] \n",
      " 44%|####4     | 101M/228M [00:32<00:42, 3.10MB/s]\n",
      " 45%|####5     | 103M/228M [00:32<00:33, 3.94MB/s]\n",
      " 46%|####6     | 105M/228M [00:32<00:26, 4.89MB/s]\n",
      " 47%|####6     | 107M/228M [00:33<00:24, 5.07MB/s]\n",
      " 47%|####7     | 108M/228M [00:33<00:21, 5.83MB/s]\n",
      " 48%|####8     | 110M/228M [00:33<00:18, 6.52MB/s]\n",
      " 49%|####8     | 111M/228M [00:33<00:20, 6.07MB/s]\n",
      " 49%|####9     | 112M/228M [00:33<00:19, 6.28MB/s]\n",
      " 50%|####9     | 113M/228M [00:34<00:22, 5.44MB/s]\n",
      " 50%|#####     | 114M/228M [00:34<00:19, 6.25MB/s]\n",
      " 50%|#####     | 115M/228M [00:34<00:17, 6.84MB/s]\n",
      " 51%|#####     | 116M/228M [00:34<00:18, 6.19MB/s]\n",
      " 51%|#####1    | 117M/228M [00:34<00:19, 5.84MB/s]\n",
      " 52%|#####1    | 118M/228M [00:35<00:20, 5.74MB/s]\n",
      " 52%|#####2    | 119M/228M [00:35<00:22, 5.08MB/s]\n",
      " 53%|#####2    | 120M/228M [00:35<00:21, 5.29MB/s]\n",
      " 53%|#####3    | 121M/228M [00:35<00:21, 5.28MB/s]\n",
      " 54%|#####3    | 122M/228M [00:35<00:18, 5.90MB/s]\n",
      " 54%|#####3    | 123M/228M [00:35<00:19, 5.73MB/s]\n",
      " 54%|#####4    | 124M/228M [00:36<00:20, 5.26MB/s]\n",
      " 55%|#####4    | 125M/228M [00:36<00:18, 5.77MB/s]\n",
      " 56%|#####5    | 127M/228M [00:36<00:16, 6.31MB/s]\n",
      " 56%|#####6    | 128M/228M [00:36<00:15, 6.85MB/s]\n",
      " 57%|#####7    | 130M/228M [00:37<00:14, 7.05MB/s]\n",
      " 58%|#####7    | 131M/228M [00:37<00:17, 5.91MB/s]\n",
      " 58%|#####7    | 132M/228M [00:37<00:21, 4.75MB/s]\n",
      " 58%|#####8    | 133M/228M [00:37<00:19, 5.12MB/s]\n",
      " 59%|#####8    | 134M/228M [00:37<00:18, 5.38MB/s]\n",
      " 59%|#####9    | 135M/228M [00:38<00:16, 5.74MB/s]\n",
      " 60%|#####9    | 136M/228M [00:38<00:14, 6.45MB/s]\n",
      " 61%|######    | 138M/228M [00:38<00:18, 5.08MB/s]\n",
      " 61%|######1   | 139M/228M [00:39<00:19, 4.66MB/s]\n",
      " 61%|######1   | 140M/228M [00:39<00:25, 3.58MB/s]\n",
      " 62%|######1   | 141M/228M [00:39<00:25, 3.53MB/s]\n",
      " 62%|######2   | 142M/228M [00:40<00:28, 3.12MB/s]\n",
      " 63%|######2   | 143M/228M [00:40<00:28, 3.12MB/s]\n",
      " 63%|######3   | 144M/228M [00:40<00:28, 3.13MB/s]\n",
      " 64%|######3   | 145M/228M [00:41<00:24, 3.56MB/s]\n",
      " 64%|######4   | 146M/228M [00:41<00:20, 4.11MB/s]\n",
      " 65%|######4   | 147M/228M [00:41<00:19, 4.36MB/s]\n",
      " 65%|######4   | 148M/228M [00:41<00:18, 4.55MB/s]\n",
      " 65%|######5   | 149M/228M [00:41<00:16, 5.04MB/s]\n",
      " 66%|######5   | 150M/228M [00:42<00:27, 2.91MB/s]\n",
      " 66%|######6   | 151M/228M [00:43<00:50, 1.59MB/s]\n",
      " 67%|######6   | 152M/228M [00:44<00:46, 1.69MB/s]\n",
      " 67%|######7   | 153M/228M [00:45<00:45, 1.73MB/s]\n",
      " 68%|######7   | 154M/228M [00:45<00:35, 2.21MB/s]\n",
      " 68%|######8   | 155M/228M [00:45<00:26, 2.83MB/s]\n",
      " 68%|######8   | 156M/228M [00:45<00:24, 3.08MB/s]\n",
      " 69%|######8   | 157M/228M [00:46<00:31, 2.32MB/s]\n",
      " 69%|######9   | 158M/228M [00:46<00:31, 2.32MB/s]\n",
      " 70%|######9   | 159M/228M [00:47<00:27, 2.64MB/s]\n",
      " 70%|#######   | 160M/228M [00:47<00:29, 2.43MB/s]\n",
      " 71%|#######   | 161M/228M [00:48<00:31, 2.23MB/s]\n",
      " 71%|#######1  | 162M/228M [00:48<00:29, 2.37MB/s]\n",
      " 72%|#######1  | 163M/228M [00:48<00:24, 2.81MB/s]\n",
      " 72%|#######1  | 164M/228M [00:48<00:20, 3.30MB/s]\n",
      " 72%|#######2  | 165M/228M [00:49<00:17, 3.83MB/s]\n",
      " 73%|#######2  | 166M/228M [00:49<00:14, 4.35MB/s]\n",
      " 73%|#######3  | 167M/228M [00:49<00:19, 3.34MB/s]\n",
      " 74%|#######3  | 168M/228M [00:49<00:15, 4.05MB/s]\n",
      " 74%|#######4  | 169M/228M [00:49<00:13, 4.66MB/s]\n",
      " 75%|#######4  | 170M/228M [00:50<00:15, 3.93MB/s]\n",
      " 75%|#######5  | 171M/228M [00:50<00:17, 3.38MB/s]\n",
      " 76%|#######5  | 172M/228M [00:50<00:14, 3.94MB/s]\n",
      " 76%|#######5  | 173M/228M [00:51<00:13, 4.18MB/s]\n",
      " 76%|#######6  | 174M/228M [00:51<00:12, 4.64MB/s]\n",
      " 77%|#######6  | 175M/228M [00:51<00:13, 4.13MB/s]\n",
      " 77%|#######7  | 176M/228M [00:51<00:13, 4.16MB/s]\n",
      " 78%|#######8  | 178M/228M [00:52<00:10, 4.90MB/s]\n",
      " 79%|#######8  | 179M/228M [00:52<00:13, 3.70MB/s]\n",
      " 79%|#######9  | 180M/228M [00:52<00:11, 4.25MB/s]\n",
      " 79%|#######9  | 181M/228M [00:52<00:11, 4.38MB/s]\n",
      " 80%|#######9  | 182M/228M [00:53<00:09, 4.85MB/s]\n",
      " 80%|########  | 183M/228M [00:53<00:09, 4.97MB/s]\n",
      " 81%|########  | 184M/228M [00:53<00:09, 4.93MB/s]\n",
      " 81%|########1 | 185M/228M [00:53<00:08, 5.43MB/s]\n",
      " 82%|########2 | 187M/228M [00:54<00:08, 5.06MB/s]\n",
      " 83%|########2 | 188M/228M [00:54<00:09, 4.20MB/s]\n",
      " 83%|########2 | 189M/228M [00:54<00:10, 4.05MB/s]\n",
      " 83%|########3 | 190M/228M [00:55<00:09, 4.11MB/s]\n",
      " 84%|########3 | 191M/228M [00:55<00:08, 4.74MB/s]\n",
      " 84%|########4 | 192M/228M [00:55<00:08, 4.46MB/s]\n",
      " 85%|########4 | 193M/228M [00:55<00:06, 5.29MB/s]\n",
      " 85%|########5 | 194M/228M [00:55<00:06, 5.50MB/s]\n",
      " 86%|########5 | 195M/228M [00:55<00:05, 6.27MB/s]\n",
      " 86%|########6 | 196M/228M [00:56<00:05, 5.75MB/s]\n",
      " 86%|########6 | 197M/228M [00:56<00:07, 4.45MB/s]\n",
      " 87%|########6 | 198M/228M [00:56<00:05, 5.25MB/s]\n",
      " 87%|########7 | 199M/228M [00:56<00:04, 6.12MB/s]\n",
      " 88%|########7 | 200M/228M [00:56<00:04, 6.19MB/s]\n",
      " 88%|########8 | 201M/228M [00:56<00:04, 6.79MB/s]\n",
      " 89%|########8 | 202M/228M [00:57<00:03, 7.16MB/s]\n",
      " 89%|########9 | 203M/228M [00:57<00:03, 7.32MB/s]\n",
      " 90%|########9 | 205M/228M [00:57<00:03, 7.77MB/s]\n",
      " 91%|######### | 207M/228M [00:57<00:02, 8.85MB/s]\n",
      " 91%|#########1| 208M/228M [00:57<00:02, 7.23MB/s]\n",
      " 92%|#########1| 209M/228M [00:57<00:02, 7.30MB/s]\n"
     ]
    },
    {
     "name": "stderr",
     "output_type": "stream",
     "text": [
      " 93%|#########2| 211M/228M [00:58<00:02, 7.92MB/s]\n",
      " 93%|#########3| 212M/228M [00:58<00:02, 7.49MB/s]\n",
      " 94%|#########3| 213M/228M [00:58<00:02, 7.45MB/s]\n",
      " 94%|#########3| 214M/228M [00:58<00:02, 5.30MB/s]\n",
      " 94%|#########4| 215M/228M [00:58<00:02, 6.10MB/s]\n",
      " 95%|#########4| 216M/228M [00:59<00:02, 6.04MB/s]\n",
      " 95%|#########5| 217M/228M [00:59<00:02, 5.08MB/s]\n",
      " 96%|#########6| 219M/228M [00:59<00:01, 5.69MB/s]\n",
      " 97%|#########6| 220M/228M [00:59<00:01, 6.26MB/s]\n",
      " 97%|#########7| 221M/228M [00:59<00:01, 6.80MB/s]\n",
      " 98%|#########7| 223M/228M [01:00<00:00, 7.62MB/s]\n",
      " 98%|#########8| 224M/228M [01:00<00:00, 7.93MB/s]\n",
      " 99%|#########8| 225M/228M [01:00<00:00, 7.95MB/s]\n",
      "100%|#########9| 227M/228M [01:00<00:00, 8.50MB/s]\n",
      "100%|##########| 228M/228M [01:00<00:00, 3.94MB/s]\n"
     ]
    }
   ],
   "source": [
    "!kaggle datasets download -d rounakbanik/the-movies-dataset"
   ]
  },
  {
   "cell_type": "code",
   "execution_count": 35,
   "metadata": {
    "ExecuteTime": {
     "end_time": "2021-08-23T03:06:17.769057Z",
     "start_time": "2021-08-23T03:06:08.726795Z"
    },
    "hide_input": false,
    "scrolled": false
   },
   "outputs": [
    {
     "name": "stdout",
     "output_type": "stream",
     "text": [
      "Archive:  the-movies-dataset.zip\n",
      "  inflating: input/credits.csv       \n",
      "  inflating: input/keywords.csv      \n",
      "  inflating: input/links.csv         \n",
      "  inflating: input/links_small.csv   \n",
      "  inflating: input/movies_metadata.csv  \n",
      "  inflating: input/ratings.csv       \n",
      "  inflating: input/ratings_small.csv  \n"
     ]
    }
   ],
   "source": [
    "!unzip the-movies-dataset.zip -d input"
   ]
  },
  {
   "cell_type": "code",
   "execution_count": 40,
   "metadata": {
    "ExecuteTime": {
     "end_time": "2021-08-23T03:11:32.983270Z",
     "start_time": "2021-08-23T03:10:32.150636Z"
    }
   },
   "outputs": [
    {
     "name": "stdout",
     "output_type": "stream",
     "text": [
      "Downloading tmdb-movie-metadata.zip to C:\\Users\\chris\\0 hyunji\\kaggle\n",
      "\n"
     ]
    },
    {
     "name": "stderr",
     "output_type": "stream",
     "text": [
      "\n",
      "  0%|          | 0.00/8.89M [00:00<?, ?B/s]\n",
      " 11%|#1        | 1.00M/8.89M [00:06<00:51, 162kB/s]\n",
      " 23%|##2       | 2.00M/8.89M [00:09<00:36, 196kB/s]\n",
      " 34%|###3      | 3.00M/8.89M [00:11<00:26, 230kB/s]\n",
      " 45%|####5     | 4.00M/8.89M [00:16<00:22, 229kB/s]\n",
      " 45%|####5     | 4.00M/8.89M [00:30<00:22, 229kB/s]\n",
      " 56%|#####6    | 5.00M/8.89M [00:35<00:34, 118kB/s]\n",
      " 68%|######7   | 6.00M/8.89M [00:42<00:23, 128kB/s]\n",
      " 79%|#######8  | 7.00M/8.89M [00:53<00:17, 114kB/s]\n",
      " 90%|######### | 8.00M/8.89M [00:57<00:06, 140kB/s]\n",
      "100%|##########| 8.89M/8.89M [00:58<00:00, 188kB/s]\n",
      "100%|##########| 8.89M/8.89M [00:58<00:00, 160kB/s]\n"
     ]
    }
   ],
   "source": [
    "!kaggle datasets download -d tmdb/tmdb-movie-metadata"
   ]
  },
  {
   "cell_type": "code",
   "execution_count": 41,
   "metadata": {
    "ExecuteTime": {
     "end_time": "2021-08-23T03:12:11.615584Z",
     "start_time": "2021-08-23T03:12:11.152377Z"
    }
   },
   "outputs": [
    {
     "name": "stdout",
     "output_type": "stream",
     "text": [
      "Archive:  tmdb-movie-metadata.zip\n",
      "  inflating: input/tmdb_5000_credits.csv  \n",
      "  inflating: input/tmdb_5000_movies.csv  \n"
     ]
    }
   ],
   "source": [
    "!unzip tmdb-movie-metadata.zip  -d input\n"
   ]
  },
  {
   "cell_type": "code",
   "execution_count": 1,
   "metadata": {
    "ExecuteTime": {
     "end_time": "2022-03-31T00:04:26.553621Z",
     "start_time": "2022-03-31T00:04:20.641768Z"
    }
   },
   "outputs": [],
   "source": [
    "import pandas as pd\n",
    "import numpy as np\n",
    "df1 = pd.read_csv('./input/tmdb_5000_credits.csv')\n",
    "df2 = pd.read_csv('./input/tmdb_5000_movies.csv')"
   ]
  },
  {
   "cell_type": "markdown",
   "metadata": {},
   "source": [
    "The first dataset contains the following features:-\n",
    "\n",
    "* movie_id - A unique identifier for each movie.\n",
    "* cast - The name of lead and supporting actors.\n",
    "* crew - The name of Director, Editor, Composer, Writer etc.\n",
    "\n",
    "The second dataset has the following features:-\n",
    "* budget - The budget in which the movie was made.\n",
    "* genre - The genre of the movie, Action, Comedy, Thriller etc.\n",
    "* homepage - A link to the homepage of the movie.\n",
    "* id - This is infact the movie_id as in the first dataset.\n",
    "* keywords - The keywords or tags related to the movie.\n",
    "* original_language - The language in which the movie was made.\n",
    "* original_title - The title of the movie before translation or adaptation\n",
    "* overview - A brief description of the movie\n",
    "* popularity - A numeric quantity specifying the movie popularity\n",
    "* production_companies - The production house of the movie.\n",
    "* production_countries - The country in which it was produced.\n",
    "* release_date - The date on which it was released.\n",
    "* revenue - The worldwide revenue. \n",
    "* runtime - The running time of the movie in minutes.\n",
    "* status - \"Released\" or \"Rumored\".\n",
    "* tagline - Movie's tagline.\n",
    "* title - Title of the movie.\n",
    "* vote_average - average ratings the movie recieved.\n",
    "* vote_count - the count of votes recieved. "
   ]
  },
  {
   "cell_type": "code",
   "execution_count": 2,
   "metadata": {
    "ExecuteTime": {
     "end_time": "2022-03-31T00:08:34.087474Z",
     "start_time": "2022-03-31T00:08:34.037522Z"
    },
    "scrolled": false
   },
   "outputs": [
    {
     "data": {
      "text/html": [
       "<div>\n",
       "<style scoped>\n",
       "    .dataframe tbody tr th:only-of-type {\n",
       "        vertical-align: middle;\n",
       "    }\n",
       "\n",
       "    .dataframe tbody tr th {\n",
       "        vertical-align: top;\n",
       "    }\n",
       "\n",
       "    .dataframe thead th {\n",
       "        text-align: right;\n",
       "    }\n",
       "</style>\n",
       "<table border=\"1\" class=\"dataframe\">\n",
       "  <thead>\n",
       "    <tr style=\"text-align: right;\">\n",
       "      <th></th>\n",
       "      <th>movie_id</th>\n",
       "      <th>title</th>\n",
       "      <th>cast</th>\n",
       "      <th>crew</th>\n",
       "    </tr>\n",
       "  </thead>\n",
       "  <tbody>\n",
       "    <tr>\n",
       "      <th>0</th>\n",
       "      <td>19995</td>\n",
       "      <td>Avatar</td>\n",
       "      <td>[{\"cast_id\": 242, \"character\": \"Jake Sully\", \"...</td>\n",
       "      <td>[{\"credit_id\": \"52fe48009251416c750aca23\", \"de...</td>\n",
       "    </tr>\n",
       "    <tr>\n",
       "      <th>1</th>\n",
       "      <td>285</td>\n",
       "      <td>Pirates of the Caribbean: At World's End</td>\n",
       "      <td>[{\"cast_id\": 4, \"character\": \"Captain Jack Spa...</td>\n",
       "      <td>[{\"credit_id\": \"52fe4232c3a36847f800b579\", \"de...</td>\n",
       "    </tr>\n",
       "    <tr>\n",
       "      <th>2</th>\n",
       "      <td>206647</td>\n",
       "      <td>Spectre</td>\n",
       "      <td>[{\"cast_id\": 1, \"character\": \"James Bond\", \"cr...</td>\n",
       "      <td>[{\"credit_id\": \"54805967c3a36829b5002c41\", \"de...</td>\n",
       "    </tr>\n",
       "    <tr>\n",
       "      <th>3</th>\n",
       "      <td>49026</td>\n",
       "      <td>The Dark Knight Rises</td>\n",
       "      <td>[{\"cast_id\": 2, \"character\": \"Bruce Wayne / Ba...</td>\n",
       "      <td>[{\"credit_id\": \"52fe4781c3a36847f81398c3\", \"de...</td>\n",
       "    </tr>\n",
       "    <tr>\n",
       "      <th>4</th>\n",
       "      <td>49529</td>\n",
       "      <td>John Carter</td>\n",
       "      <td>[{\"cast_id\": 5, \"character\": \"John Carter\", \"c...</td>\n",
       "      <td>[{\"credit_id\": \"52fe479ac3a36847f813eaa3\", \"de...</td>\n",
       "    </tr>\n",
       "  </tbody>\n",
       "</table>\n",
       "</div>"
      ],
      "text/plain": [
       "   movie_id                                     title  \\\n",
       "0     19995                                    Avatar   \n",
       "1       285  Pirates of the Caribbean: At World's End   \n",
       "2    206647                                   Spectre   \n",
       "3     49026                     The Dark Knight Rises   \n",
       "4     49529                               John Carter   \n",
       "\n",
       "                                                cast  \\\n",
       "0  [{\"cast_id\": 242, \"character\": \"Jake Sully\", \"...   \n",
       "1  [{\"cast_id\": 4, \"character\": \"Captain Jack Spa...   \n",
       "2  [{\"cast_id\": 1, \"character\": \"James Bond\", \"cr...   \n",
       "3  [{\"cast_id\": 2, \"character\": \"Bruce Wayne / Ba...   \n",
       "4  [{\"cast_id\": 5, \"character\": \"John Carter\", \"c...   \n",
       "\n",
       "                                                crew  \n",
       "0  [{\"credit_id\": \"52fe48009251416c750aca23\", \"de...  \n",
       "1  [{\"credit_id\": \"52fe4232c3a36847f800b579\", \"de...  \n",
       "2  [{\"credit_id\": \"54805967c3a36829b5002c41\", \"de...  \n",
       "3  [{\"credit_id\": \"52fe4781c3a36847f81398c3\", \"de...  \n",
       "4  [{\"credit_id\": \"52fe479ac3a36847f813eaa3\", \"de...  "
      ]
     },
     "execution_count": 2,
     "metadata": {},
     "output_type": "execute_result"
    }
   ],
   "source": [
    "df1.head()"
   ]
  },
  {
   "cell_type": "code",
   "execution_count": 3,
   "metadata": {
    "ExecuteTime": {
     "end_time": "2022-03-31T00:08:37.024691Z",
     "start_time": "2022-03-31T00:08:36.956877Z"
    },
    "scrolled": true
   },
   "outputs": [
    {
     "data": {
      "text/html": [
       "<div>\n",
       "<style scoped>\n",
       "    .dataframe tbody tr th:only-of-type {\n",
       "        vertical-align: middle;\n",
       "    }\n",
       "\n",
       "    .dataframe tbody tr th {\n",
       "        vertical-align: top;\n",
       "    }\n",
       "\n",
       "    .dataframe thead th {\n",
       "        text-align: right;\n",
       "    }\n",
       "</style>\n",
       "<table border=\"1\" class=\"dataframe\">\n",
       "  <thead>\n",
       "    <tr style=\"text-align: right;\">\n",
       "      <th></th>\n",
       "      <th>budget</th>\n",
       "      <th>genres</th>\n",
       "      <th>homepage</th>\n",
       "      <th>id</th>\n",
       "      <th>keywords</th>\n",
       "      <th>original_language</th>\n",
       "      <th>original_title</th>\n",
       "      <th>overview</th>\n",
       "      <th>popularity</th>\n",
       "      <th>production_companies</th>\n",
       "      <th>production_countries</th>\n",
       "      <th>release_date</th>\n",
       "      <th>revenue</th>\n",
       "      <th>runtime</th>\n",
       "      <th>spoken_languages</th>\n",
       "      <th>status</th>\n",
       "      <th>tagline</th>\n",
       "      <th>title</th>\n",
       "      <th>vote_average</th>\n",
       "      <th>vote_count</th>\n",
       "    </tr>\n",
       "  </thead>\n",
       "  <tbody>\n",
       "    <tr>\n",
       "      <th>0</th>\n",
       "      <td>237000000</td>\n",
       "      <td>[{\"id\": 28, \"name\": \"Action\"}, {\"id\": 12, \"nam...</td>\n",
       "      <td>http://www.avatarmovie.com/</td>\n",
       "      <td>19995</td>\n",
       "      <td>[{\"id\": 1463, \"name\": \"culture clash\"}, {\"id\":...</td>\n",
       "      <td>en</td>\n",
       "      <td>Avatar</td>\n",
       "      <td>In the 22nd century, a paraplegic Marine is di...</td>\n",
       "      <td>150.437577</td>\n",
       "      <td>[{\"name\": \"Ingenious Film Partners\", \"id\": 289...</td>\n",
       "      <td>[{\"iso_3166_1\": \"US\", \"name\": \"United States o...</td>\n",
       "      <td>2009-12-10</td>\n",
       "      <td>2787965087</td>\n",
       "      <td>162.0</td>\n",
       "      <td>[{\"iso_639_1\": \"en\", \"name\": \"English\"}, {\"iso...</td>\n",
       "      <td>Released</td>\n",
       "      <td>Enter the World of Pandora.</td>\n",
       "      <td>Avatar</td>\n",
       "      <td>7.2</td>\n",
       "      <td>11800</td>\n",
       "    </tr>\n",
       "    <tr>\n",
       "      <th>1</th>\n",
       "      <td>300000000</td>\n",
       "      <td>[{\"id\": 12, \"name\": \"Adventure\"}, {\"id\": 14, \"...</td>\n",
       "      <td>http://disney.go.com/disneypictures/pirates/</td>\n",
       "      <td>285</td>\n",
       "      <td>[{\"id\": 270, \"name\": \"ocean\"}, {\"id\": 726, \"na...</td>\n",
       "      <td>en</td>\n",
       "      <td>Pirates of the Caribbean: At World's End</td>\n",
       "      <td>Captain Barbossa, long believed to be dead, ha...</td>\n",
       "      <td>139.082615</td>\n",
       "      <td>[{\"name\": \"Walt Disney Pictures\", \"id\": 2}, {\"...</td>\n",
       "      <td>[{\"iso_3166_1\": \"US\", \"name\": \"United States o...</td>\n",
       "      <td>2007-05-19</td>\n",
       "      <td>961000000</td>\n",
       "      <td>169.0</td>\n",
       "      <td>[{\"iso_639_1\": \"en\", \"name\": \"English\"}]</td>\n",
       "      <td>Released</td>\n",
       "      <td>At the end of the world, the adventure begins.</td>\n",
       "      <td>Pirates of the Caribbean: At World's End</td>\n",
       "      <td>6.9</td>\n",
       "      <td>4500</td>\n",
       "    </tr>\n",
       "    <tr>\n",
       "      <th>2</th>\n",
       "      <td>245000000</td>\n",
       "      <td>[{\"id\": 28, \"name\": \"Action\"}, {\"id\": 12, \"nam...</td>\n",
       "      <td>http://www.sonypictures.com/movies/spectre/</td>\n",
       "      <td>206647</td>\n",
       "      <td>[{\"id\": 470, \"name\": \"spy\"}, {\"id\": 818, \"name...</td>\n",
       "      <td>en</td>\n",
       "      <td>Spectre</td>\n",
       "      <td>A cryptic message from Bond’s past sends him o...</td>\n",
       "      <td>107.376788</td>\n",
       "      <td>[{\"name\": \"Columbia Pictures\", \"id\": 5}, {\"nam...</td>\n",
       "      <td>[{\"iso_3166_1\": \"GB\", \"name\": \"United Kingdom\"...</td>\n",
       "      <td>2015-10-26</td>\n",
       "      <td>880674609</td>\n",
       "      <td>148.0</td>\n",
       "      <td>[{\"iso_639_1\": \"fr\", \"name\": \"Fran\\u00e7ais\"},...</td>\n",
       "      <td>Released</td>\n",
       "      <td>A Plan No One Escapes</td>\n",
       "      <td>Spectre</td>\n",
       "      <td>6.3</td>\n",
       "      <td>4466</td>\n",
       "    </tr>\n",
       "    <tr>\n",
       "      <th>3</th>\n",
       "      <td>250000000</td>\n",
       "      <td>[{\"id\": 28, \"name\": \"Action\"}, {\"id\": 80, \"nam...</td>\n",
       "      <td>http://www.thedarkknightrises.com/</td>\n",
       "      <td>49026</td>\n",
       "      <td>[{\"id\": 849, \"name\": \"dc comics\"}, {\"id\": 853,...</td>\n",
       "      <td>en</td>\n",
       "      <td>The Dark Knight Rises</td>\n",
       "      <td>Following the death of District Attorney Harve...</td>\n",
       "      <td>112.312950</td>\n",
       "      <td>[{\"name\": \"Legendary Pictures\", \"id\": 923}, {\"...</td>\n",
       "      <td>[{\"iso_3166_1\": \"US\", \"name\": \"United States o...</td>\n",
       "      <td>2012-07-16</td>\n",
       "      <td>1084939099</td>\n",
       "      <td>165.0</td>\n",
       "      <td>[{\"iso_639_1\": \"en\", \"name\": \"English\"}]</td>\n",
       "      <td>Released</td>\n",
       "      <td>The Legend Ends</td>\n",
       "      <td>The Dark Knight Rises</td>\n",
       "      <td>7.6</td>\n",
       "      <td>9106</td>\n",
       "    </tr>\n",
       "    <tr>\n",
       "      <th>4</th>\n",
       "      <td>260000000</td>\n",
       "      <td>[{\"id\": 28, \"name\": \"Action\"}, {\"id\": 12, \"nam...</td>\n",
       "      <td>http://movies.disney.com/john-carter</td>\n",
       "      <td>49529</td>\n",
       "      <td>[{\"id\": 818, \"name\": \"based on novel\"}, {\"id\":...</td>\n",
       "      <td>en</td>\n",
       "      <td>John Carter</td>\n",
       "      <td>John Carter is a war-weary, former military ca...</td>\n",
       "      <td>43.926995</td>\n",
       "      <td>[{\"name\": \"Walt Disney Pictures\", \"id\": 2}]</td>\n",
       "      <td>[{\"iso_3166_1\": \"US\", \"name\": \"United States o...</td>\n",
       "      <td>2012-03-07</td>\n",
       "      <td>284139100</td>\n",
       "      <td>132.0</td>\n",
       "      <td>[{\"iso_639_1\": \"en\", \"name\": \"English\"}]</td>\n",
       "      <td>Released</td>\n",
       "      <td>Lost in our world, found in another.</td>\n",
       "      <td>John Carter</td>\n",
       "      <td>6.1</td>\n",
       "      <td>2124</td>\n",
       "    </tr>\n",
       "  </tbody>\n",
       "</table>\n",
       "</div>"
      ],
      "text/plain": [
       "      budget                                             genres  \\\n",
       "0  237000000  [{\"id\": 28, \"name\": \"Action\"}, {\"id\": 12, \"nam...   \n",
       "1  300000000  [{\"id\": 12, \"name\": \"Adventure\"}, {\"id\": 14, \"...   \n",
       "2  245000000  [{\"id\": 28, \"name\": \"Action\"}, {\"id\": 12, \"nam...   \n",
       "3  250000000  [{\"id\": 28, \"name\": \"Action\"}, {\"id\": 80, \"nam...   \n",
       "4  260000000  [{\"id\": 28, \"name\": \"Action\"}, {\"id\": 12, \"nam...   \n",
       "\n",
       "                                       homepage      id  \\\n",
       "0                   http://www.avatarmovie.com/   19995   \n",
       "1  http://disney.go.com/disneypictures/pirates/     285   \n",
       "2   http://www.sonypictures.com/movies/spectre/  206647   \n",
       "3            http://www.thedarkknightrises.com/   49026   \n",
       "4          http://movies.disney.com/john-carter   49529   \n",
       "\n",
       "                                            keywords original_language  \\\n",
       "0  [{\"id\": 1463, \"name\": \"culture clash\"}, {\"id\":...                en   \n",
       "1  [{\"id\": 270, \"name\": \"ocean\"}, {\"id\": 726, \"na...                en   \n",
       "2  [{\"id\": 470, \"name\": \"spy\"}, {\"id\": 818, \"name...                en   \n",
       "3  [{\"id\": 849, \"name\": \"dc comics\"}, {\"id\": 853,...                en   \n",
       "4  [{\"id\": 818, \"name\": \"based on novel\"}, {\"id\":...                en   \n",
       "\n",
       "                             original_title  \\\n",
       "0                                    Avatar   \n",
       "1  Pirates of the Caribbean: At World's End   \n",
       "2                                   Spectre   \n",
       "3                     The Dark Knight Rises   \n",
       "4                               John Carter   \n",
       "\n",
       "                                            overview  popularity  \\\n",
       "0  In the 22nd century, a paraplegic Marine is di...  150.437577   \n",
       "1  Captain Barbossa, long believed to be dead, ha...  139.082615   \n",
       "2  A cryptic message from Bond’s past sends him o...  107.376788   \n",
       "3  Following the death of District Attorney Harve...  112.312950   \n",
       "4  John Carter is a war-weary, former military ca...   43.926995   \n",
       "\n",
       "                                production_companies  \\\n",
       "0  [{\"name\": \"Ingenious Film Partners\", \"id\": 289...   \n",
       "1  [{\"name\": \"Walt Disney Pictures\", \"id\": 2}, {\"...   \n",
       "2  [{\"name\": \"Columbia Pictures\", \"id\": 5}, {\"nam...   \n",
       "3  [{\"name\": \"Legendary Pictures\", \"id\": 923}, {\"...   \n",
       "4        [{\"name\": \"Walt Disney Pictures\", \"id\": 2}]   \n",
       "\n",
       "                                production_countries release_date     revenue  \\\n",
       "0  [{\"iso_3166_1\": \"US\", \"name\": \"United States o...   2009-12-10  2787965087   \n",
       "1  [{\"iso_3166_1\": \"US\", \"name\": \"United States o...   2007-05-19   961000000   \n",
       "2  [{\"iso_3166_1\": \"GB\", \"name\": \"United Kingdom\"...   2015-10-26   880674609   \n",
       "3  [{\"iso_3166_1\": \"US\", \"name\": \"United States o...   2012-07-16  1084939099   \n",
       "4  [{\"iso_3166_1\": \"US\", \"name\": \"United States o...   2012-03-07   284139100   \n",
       "\n",
       "   runtime                                   spoken_languages    status  \\\n",
       "0    162.0  [{\"iso_639_1\": \"en\", \"name\": \"English\"}, {\"iso...  Released   \n",
       "1    169.0           [{\"iso_639_1\": \"en\", \"name\": \"English\"}]  Released   \n",
       "2    148.0  [{\"iso_639_1\": \"fr\", \"name\": \"Fran\\u00e7ais\"},...  Released   \n",
       "3    165.0           [{\"iso_639_1\": \"en\", \"name\": \"English\"}]  Released   \n",
       "4    132.0           [{\"iso_639_1\": \"en\", \"name\": \"English\"}]  Released   \n",
       "\n",
       "                                          tagline  \\\n",
       "0                     Enter the World of Pandora.   \n",
       "1  At the end of the world, the adventure begins.   \n",
       "2                           A Plan No One Escapes   \n",
       "3                                 The Legend Ends   \n",
       "4            Lost in our world, found in another.   \n",
       "\n",
       "                                      title  vote_average  vote_count  \n",
       "0                                    Avatar           7.2       11800  \n",
       "1  Pirates of the Caribbean: At World's End           6.9        4500  \n",
       "2                                   Spectre           6.3        4466  \n",
       "3                     The Dark Knight Rises           7.6        9106  \n",
       "4                               John Carter           6.1        2124  "
      ]
     },
     "execution_count": 3,
     "metadata": {},
     "output_type": "execute_result"
    }
   ],
   "source": [
    "df2.head()"
   ]
  },
  {
   "cell_type": "code",
   "execution_count": 6,
   "metadata": {
    "ExecuteTime": {
     "end_time": "2022-03-31T00:23:40.722573Z",
     "start_time": "2022-03-31T00:23:40.648477Z"
    }
   },
   "outputs": [],
   "source": [
    "df1.columns = ['id','title', 'cast', 'crew']\n",
    "df2 = df2.merge(df1,on=['id','title'])"
   ]
  },
  {
   "cell_type": "markdown",
   "metadata": {},
   "source": [
    "## Demographic Filtering"
   ]
  },
  {
   "cell_type": "code",
   "execution_count": 7,
   "metadata": {
    "ExecuteTime": {
     "end_time": "2022-03-31T00:23:54.688834Z",
     "start_time": "2022-03-31T00:23:52.901414Z"
    }
   },
   "outputs": [],
   "source": [
    "from IPython.display import Image\n",
    "%matplotlib inline"
   ]
  },
  {
   "cell_type": "markdown",
   "metadata": {},
   "source": [
    "Before getting started with this-\n",
    "* we need a metric to score or rate movie\n",
    "* Calculate the score for every movie\n",
    "* Sort the scores and recommend the best rated movie to the users.\n",
    "\n",
    "We can use the average ratings of the movies as the score but using this won't be fair enough since a movie with 8.9 average rating and only 3 votes cannot be considered better than the movie with 7.8 as an average rating but 40 votes.\n",
    "So, I'll be using IMDB's Weighted rating(wr) which is given as:-"
   ]
  },
  {
   "cell_type": "code",
   "execution_count": 9,
   "metadata": {
    "ExecuteTime": {
     "end_time": "2022-03-31T00:24:57.990290Z",
     "start_time": "2022-03-31T00:24:57.347373Z"
    }
   },
   "outputs": [
    {
     "data": {
      "image/png": "[encoded data removed]",
      "text/plain": [
       "<IPython.core.display.Image object>"
      ]
     },
     "execution_count": 9,
     "metadata": {},
     "output_type": "execute_result"
    }
   ],
   "source": [
    "Image(\"https://image.ibb.co/jYWZp9/wr.png\")"
   ]
  },
  {
   "cell_type": "markdown",
   "metadata": {
    "ExecuteTime": {
     "end_time": "2021-08-23T03:25:23.883274Z",
     "start_time": "2021-08-23T03:25:23.866318Z"
    }
   },
   "source": [
    "where,\n",
    "* v is the number of votes for the movie;\n",
    "* m is the minimum votes required to be listed in the chart;\n",
    "* R is the average rating of the movie; And\n",
    "* C is the mean vote across the whole report\n",
    "\n",
    "We already have v(vote_count) and R(vote_average) and C can be calculated as "
   ]
  },
  {
   "cell_type": "code",
   "execution_count": 10,
   "metadata": {
    "ExecuteTime": {
     "end_time": "2022-03-31T00:34:11.028177Z",
     "start_time": "2022-03-31T00:34:11.011950Z"
    }
   },
   "outputs": [
    {
     "data": {
      "text/plain": [
       "6.092171559442011"
      ]
     },
     "execution_count": 10,
     "metadata": {},
     "output_type": "execute_result"
    }
   ],
   "source": [
    "C = df2['vote_average'].mean()\n",
    "C"
   ]
  },
  {
   "cell_type": "markdown",
   "metadata": {},
   "source": [
    "So the mean rating for all the movies is approx 6 on a scale of 10. The next step is to determine an appropriate value for m, the minimum votes required to be listed in the chart. We will use 90th percentile as our cutoff. In other words, for a movie the feature in the charts, it must have votes than at least 90% of the movies in the list."
   ]
  },
  {
   "cell_type": "code",
   "execution_count": 11,
   "metadata": {
    "ExecuteTime": {
     "end_time": "2022-03-31T00:35:20.585360Z",
     "start_time": "2022-03-31T00:35:20.556441Z"
    }
   },
   "outputs": [
    {
     "data": {
      "text/plain": [
       "1838.4000000000015"
      ]
     },
     "execution_count": 11,
     "metadata": {},
     "output_type": "execute_result"
    }
   ],
   "source": [
    "m = df2['vote_count'].quantile(0.9)\n",
    "m"
   ]
  },
  {
   "cell_type": "markdown",
   "metadata": {},
   "source": [
    "Now, we can filter out the movies that qualify for the chart"
   ]
  },
  {
   "cell_type": "code",
   "execution_count": 12,
   "metadata": {
    "ExecuteTime": {
     "end_time": "2022-03-31T00:36:25.439541Z",
     "start_time": "2022-03-31T00:36:25.330872Z"
    }
   },
   "outputs": [
    {
     "data": {
      "text/plain": [
       "(481, 22)"
      ]
     },
     "execution_count": 12,
     "metadata": {},
     "output_type": "execute_result"
    }
   ],
   "source": [
    "q_movies = df2.copy().loc[df2['vote_count']>= m]\n",
    "q_movies.shape"
   ]
  },
  {
   "cell_type": "markdown",
   "metadata": {},
   "source": [
    "We see that there are 481 movies which qualify to be in this list. Now, we need to calculate our metric for each qualified movie. To do this, we will define a function, **weighted_rating()**  and define a new feature **score**, of which we'll calculate the value by applying this function to our DataFrame of qualified movies:"
   ]
  },
  {
   "cell_type": "code",
   "execution_count": 13,
   "metadata": {
    "ExecuteTime": {
     "end_time": "2022-03-31T00:42:21.095288Z",
     "start_time": "2022-03-31T00:42:21.075289Z"
    }
   },
   "outputs": [],
   "source": [
    "def weighted_rating(x, m=m, C=C):\n",
    "    v= x['vote_count']\n",
    "    R = x['vote_average']\n",
    "    # Calculation based on the IMDB formula\n",
    "    return (v/(v+m) * R) + (m/(m+v)* C)"
   ]
  },
  {
   "cell_type": "code",
   "execution_count": 14,
   "metadata": {
    "ExecuteTime": {
     "end_time": "2022-03-31T00:43:19.578762Z",
     "start_time": "2022-03-31T00:43:19.537775Z"
    }
   },
   "outputs": [],
   "source": [
    "# Define a new feature 'score' and calculate its value with 'weighted_rating()'\n",
    "q_movies['score'] = q_movies.apply(weighted_rating, axis=1)"
   ]
  },
  {
   "cell_type": "markdown",
   "metadata": {},
   "source": [
    "Finally, let's sort the DataFrame based on the score feature and output the title, vote count, vote average and weighted rating or score of the top 10 movies."
   ]
  },
  {
   "cell_type": "code",
   "execution_count": 20,
   "metadata": {
    "ExecuteTime": {
     "end_time": "2022-03-31T00:46:34.660359Z",
     "start_time": "2022-03-31T00:46:34.618436Z"
    }
   },
   "outputs": [
    {
     "data": {
      "text/html": [
       "<div>\n",
       "<style scoped>\n",
       "    .dataframe tbody tr th:only-of-type {\n",
       "        vertical-align: middle;\n",
       "    }\n",
       "\n",
       "    .dataframe tbody tr th {\n",
       "        vertical-align: top;\n",
       "    }\n",
       "\n",
       "    .dataframe thead th {\n",
       "        text-align: right;\n",
       "    }\n",
       "</style>\n",
       "<table border=\"1\" class=\"dataframe\">\n",
       "  <thead>\n",
       "    <tr style=\"text-align: right;\">\n",
       "      <th></th>\n",
       "      <th>title</th>\n",
       "      <th>vote_count</th>\n",
       "      <th>vote_average</th>\n",
       "      <th>score</th>\n",
       "    </tr>\n",
       "  </thead>\n",
       "  <tbody>\n",
       "    <tr>\n",
       "      <th>1881</th>\n",
       "      <td>The Shawshank Redemption</td>\n",
       "      <td>8205</td>\n",
       "      <td>8.5</td>\n",
       "      <td>8.059258</td>\n",
       "    </tr>\n",
       "    <tr>\n",
       "      <th>662</th>\n",
       "      <td>Fight Club</td>\n",
       "      <td>9413</td>\n",
       "      <td>8.3</td>\n",
       "      <td>7.939256</td>\n",
       "    </tr>\n",
       "    <tr>\n",
       "      <th>65</th>\n",
       "      <td>The Dark Knight</td>\n",
       "      <td>12002</td>\n",
       "      <td>8.2</td>\n",
       "      <td>7.920020</td>\n",
       "    </tr>\n",
       "    <tr>\n",
       "      <th>3232</th>\n",
       "      <td>Pulp Fiction</td>\n",
       "      <td>8428</td>\n",
       "      <td>8.3</td>\n",
       "      <td>7.904645</td>\n",
       "    </tr>\n",
       "    <tr>\n",
       "      <th>96</th>\n",
       "      <td>Inception</td>\n",
       "      <td>13752</td>\n",
       "      <td>8.1</td>\n",
       "      <td>7.863239</td>\n",
       "    </tr>\n",
       "    <tr>\n",
       "      <th>3337</th>\n",
       "      <td>The Godfather</td>\n",
       "      <td>5893</td>\n",
       "      <td>8.4</td>\n",
       "      <td>7.851236</td>\n",
       "    </tr>\n",
       "    <tr>\n",
       "      <th>95</th>\n",
       "      <td>Interstellar</td>\n",
       "      <td>10867</td>\n",
       "      <td>8.1</td>\n",
       "      <td>7.809479</td>\n",
       "    </tr>\n",
       "    <tr>\n",
       "      <th>809</th>\n",
       "      <td>Forrest Gump</td>\n",
       "      <td>7927</td>\n",
       "      <td>8.2</td>\n",
       "      <td>7.803188</td>\n",
       "    </tr>\n",
       "    <tr>\n",
       "      <th>329</th>\n",
       "      <td>The Lord of the Rings: The Return of the King</td>\n",
       "      <td>8064</td>\n",
       "      <td>8.1</td>\n",
       "      <td>7.727243</td>\n",
       "    </tr>\n",
       "    <tr>\n",
       "      <th>1990</th>\n",
       "      <td>The Empire Strikes Back</td>\n",
       "      <td>5879</td>\n",
       "      <td>8.2</td>\n",
       "      <td>7.697884</td>\n",
       "    </tr>\n",
       "  </tbody>\n",
       "</table>\n",
       "</div>"
      ],
      "text/plain": [
       "                                              title  vote_count  vote_average  \\\n",
       "1881                       The Shawshank Redemption        8205           8.5   \n",
       "662                                      Fight Club        9413           8.3   \n",
       "65                                  The Dark Knight       12002           8.2   \n",
       "3232                                   Pulp Fiction        8428           8.3   \n",
       "96                                        Inception       13752           8.1   \n",
       "3337                                  The Godfather        5893           8.4   \n",
       "95                                     Interstellar       10867           8.1   \n",
       "809                                    Forrest Gump        7927           8.2   \n",
       "329   The Lord of the Rings: The Return of the King        8064           8.1   \n",
       "1990                        The Empire Strikes Back        5879           8.2   \n",
       "\n",
       "         score  \n",
       "1881  8.059258  \n",
       "662   7.939256  \n",
       "65    7.920020  \n",
       "3232  7.904645  \n",
       "96    7.863239  \n",
       "3337  7.851236  \n",
       "95    7.809479  \n",
       "809   7.803188  \n",
       "329   7.727243  \n",
       "1990  7.697884  "
      ]
     },
     "execution_count": 20,
     "metadata": {},
     "output_type": "execute_result"
    }
   ],
   "source": [
    "#Sort movies based on score calculated above\n",
    "q_movies = q_movies.sort_values('score', ascending = False)\n",
    "\n",
    "#Print the top 15 movies\n",
    "q_movies[['title','vote_count','vote_average','score']].head(10)"
   ]
  },
  {
   "cell_type": "markdown",
   "metadata": {},
   "source": [
    "Hurray! We have made out first(though very basic) recommender. Under the **Trending Now** tab of these systems we find movies that are very popular and they can just be obtained by sorting the dataset by the popularity column."
   ]
  },
  {
   "cell_type": "code",
   "execution_count": null,
   "metadata": {},
   "outputs": [],
   "source": []
  },
  {
   "cell_type": "code",
   "execution_count": 21,
   "metadata": {
    "ExecuteTime": {
     "end_time": "2022-03-31T00:50:36.808465Z",
     "start_time": "2022-03-31T00:50:35.279209Z"
    }
   },
   "outputs": [
    {
     "data": {
      "text/plain": [
       "Text(0.5, 1.0, 'Popular Movies')"
      ]
     },
     "execution_count": 21,
     "metadata": {},
     "output_type": "execute_result"
    },
    {
     "data": {
      "image/png": "[encoded data removed]",
      "text/plain": [
       "<Figure size 864x288 with 1 Axes>"
      ]
     },
     "metadata": {
      "needs_background": "light"
     },
     "output_type": "display_data"
    }
   ],
   "source": [
    "pop =df2.sort_values('popularity', ascending =False)\n",
    "import matplotlib.pyplot as plt\n",
    "plt.figure(figsize = (12,4))\n",
    "\n",
    "plt.barh(pop['title'].head(6), pop['popularity'].head(6), align = 'center', \n",
    "        color = 'skyblue')\n",
    "plt.gca().invert_yaxis()\n",
    "plt.xlabel('Popularity')\n",
    "plt.title('Popular Movies')"
   ]
  },
  {
   "cell_type": "markdown",
   "metadata": {},
   "source": [
    "Now something to keep in mind is that these demographic recommender provide a general chart of recommended movies to all the users. They are not sensitive to the intersts and tastes of a particular user. This is when we move on to a more refined system - Content Based Filtering."
   ]
  },
  {
   "cell_type": "markdown",
   "metadata": {},
   "source": [
    "## Content Based Filtering"
   ]
  },
  {
   "cell_type": "markdown",
   "metadata": {},
   "source": [
    "In this recommender system the content of the movie(overview, cast, crew, keyword, tagline etc) is used to find its similarity with other movies. Then the movies that are most likely to be simillar are recommended."
   ]
  },
  {
   "cell_type": "code",
   "execution_count": 22,
   "metadata": {
    "ExecuteTime": {
     "end_time": "2022-03-31T00:53:49.553551Z",
     "start_time": "2022-03-31T00:53:48.549800Z"
    }
   },
   "outputs": [
    {
     "data": {
      "image/png": "[encoded data removed]",
      "text/plain": [
       "<IPython.core.display.Image object>"
      ]
     },
     "execution_count": 22,
     "metadata": {},
     "output_type": "execute_result"
    }
   ],
   "source": [
    "Image(\"https://image.ibb.co/f6mDXU/conten.png\")"
   ]
  },
  {
   "cell_type": "markdown",
   "metadata": {},
   "source": [
    "### Plot description based Recommender"
   ]
  },
  {
   "cell_type": "markdown",
   "metadata": {},
   "source": [
    "We will compute pairwise similrity scores for all movies based on their plot descriptions and recommend movies based on that similarity score. The plot description is given in the **overview** feature of our dataset. Let's take a look at the data. .."
   ]
  },
  {
   "cell_type": "code",
   "execution_count": 23,
   "metadata": {
    "ExecuteTime": {
     "end_time": "2022-03-31T00:55:53.935908Z",
     "start_time": "2022-03-31T00:55:53.917881Z"
    }
   },
   "outputs": [
    {
     "data": {
      "text/plain": [
       "0    In the 22nd century, a paraplegic Marine is di...\n",
       "1    Captain Barbossa, long believed to be dead, ha...\n",
       "2    A cryptic message from Bond’s past sends him o...\n",
       "3    Following the death of District Attorney Harve...\n",
       "4    John Carter is a war-weary, former military ca...\n",
       "Name: overview, dtype: object"
      ]
     },
     "execution_count": 23,
     "metadata": {},
     "output_type": "execute_result"
    }
   ],
   "source": [
    "df2['overview'].head(5)"
   ]
  },
  {
   "cell_type": "markdown",
   "metadata": {},
   "source": [
    "For any of you who has done even a bit of text processing before knows we need to convert the word vector of each overview. Now we'll compute Term Frequency-Inverse Document Frequency(TF-IDF) vectors for each overview.\n",
    "\n",
    "Now if you are wondering what is term frequency, it is the relative frequency of word in a document and is given as **(term instances/total instances).** Inverse Document Frequency is the relative count of documents containing the term is given as **log(number of documents/documents with term)** The overall importance of each word to the documents in which they appear is equal to **TF\\*IDF** \n",
    "\n",
    "This will give you a matrix where each column represents a word in the overview vocabulary (all the words that appear in at least one document) and each row represents a movie, as before. This is done to reduce the importance of words that occur frequently in plot overviews and therefore, their significance in computing the final similarity score.\n",
    "\n",
    "Fortunately, scikit-learn gives you a built-in TfIdfVectorizer class that produces the TF-IDF matrix in a couple of lines. That's great, isn't it?"
   ]
  },
  {
   "cell_type": "code",
   "execution_count": 25,
   "metadata": {
    "ExecuteTime": {
     "end_time": "2022-03-31T01:12:29.292019Z",
     "start_time": "2022-03-31T01:12:28.570728Z"
    }
   },
   "outputs": [
    {
     "data": {
      "text/plain": [
       "(4803, 20978)"
      ]
     },
     "execution_count": 25,
     "metadata": {},
     "output_type": "execute_result"
    }
   ],
   "source": [
    "#Import TfIdVectorizer from scikit-learn\n",
    "from sklearn.feature_extraction.text import TfidfVectorizer\n",
    "\n",
    "#Define a TF-IDF Vectorizer Object. Remove all english stop words such as 'the','a'\n",
    "tfidf = TfidfVectorizer(stop_words='english')\n",
    "\n",
    "#Replace NaN with an empty string\n",
    "df2['overview'] = df2['overview'].fillna('')\n",
    "\n",
    "#Construct the required TF-IDF matrix by fitting and transforming the data\n",
    "tfidf_matrix = tfidf.fit_transform(df2['overview'])\n",
    "\n",
    "#Output the shpae of tfidf_matrix\n",
    "tfidf_matrix.shape"
   ]
  },
  {
   "cell_type": "markdown",
   "metadata": {},
   "source": [
    "We see that over 20,000 different words were used to describe the 4800 movies in our dataset.\n",
    "\n",
    "With this matrix in hand, we can now compute a similarity score. There are several candidates for this; such as the euclidean, the Pearson and the cosine similarity scores. There is no right answer to which score is the best. Different scores work well in different scenarios and it is often a good idea to experiment with different metrics. \n",
    "\n",
    "We will be using the cosine similarity to calculate a numeric quantity that denotes the similarity between two movies. We use the cosine similarity score since it is independent of magnitude and is relatively easy and fast to calculate. \n",
    "Mahtematically, it is defined as follows:"
   ]
  },
  {
   "cell_type": "code",
   "execution_count": 28,
   "metadata": {
    "ExecuteTime": {
     "end_time": "2022-03-31T01:19:28.221740Z",
     "start_time": "2022-03-31T01:19:28.201793Z"
    }
   },
   "outputs": [
    {
     "data": {
      "image/png": "[encoded data removed]",
      "text/plain": [
       "<IPython.core.display.Image object>"
      ]
     },
     "execution_count": 28,
     "metadata": {},
     "output_type": "execute_result"
    }
   ],
   "source": [
    "Image(\"./input/cosine_similarity.png\")"
   ]
  },
  {
   "cell_type": "markdown",
   "metadata": {},
   "source": [
    "Since we have used the TF-IDF vectorizer, calculating the dot product will directly give us the cosine similarity score. Therefore, we will use sklearn's **linear_kernel()** instead of cosine_similarities() since it is faster."
   ]
  },
  {
   "cell_type": "code",
   "execution_count": 29,
   "metadata": {
    "ExecuteTime": {
     "end_time": "2022-03-31T01:24:57.987206Z",
     "start_time": "2022-03-31T01:24:57.563965Z"
    }
   },
   "outputs": [],
   "source": [
    "#Import linear_kernel\n",
    "from sklearn.metrics.pairwise import linear_kernel\n",
    "\n",
    "#Compute the cosine similarity matrix\n",
    "cosine_sim = linear_kernel(tfidf_matrix, tfidf_matrix)"
   ]
  },
  {
   "cell_type": "markdown",
   "metadata": {},
   "source": [
    "We are going to define a function that takes in a movie title as an input and outputs a list of the 10 most similar movies. Firstly, for this, we need a reverse mapping of movie titles and DataFrame indices. In other words, we need a mechanism to identify the index of a movie in our metadata DataFrame, given its title. "
   ]
  },
  {
   "cell_type": "code",
   "execution_count": 30,
   "metadata": {
    "ExecuteTime": {
     "end_time": "2022-03-31T01:27:35.832125Z",
     "start_time": "2022-03-31T01:27:35.822912Z"
    }
   },
   "outputs": [],
   "source": [
    "#Construct a reverse map of indices and movie titles\n",
    "indices = pd.Series(df2.index, index=df2['title']).drop_duplicates()"
   ]
  },
  {
   "cell_type": "code",
   "execution_count": 32,
   "metadata": {
    "ExecuteTime": {
     "end_time": "2022-03-31T01:27:49.481909Z",
     "start_time": "2022-03-31T01:27:49.465967Z"
    }
   },
   "outputs": [
    {
     "data": {
      "text/plain": [
       "title\n",
       "Avatar                                         0\n",
       "Pirates of the Caribbean: At World's End       1\n",
       "Spectre                                        2\n",
       "The Dark Knight Rises                          3\n",
       "John Carter                                    4\n",
       "                                            ... \n",
       "El Mariachi                                 4798\n",
       "Newlyweds                                   4799\n",
       "Signed, Sealed, Delivered                   4800\n",
       "Shanghai Calling                            4801\n",
       "My Date with Drew                           4802\n",
       "Length: 4803, dtype: int64"
      ]
     },
     "execution_count": 32,
     "metadata": {},
     "output_type": "execute_result"
    }
   ],
   "source": [
    "indices"
   ]
  },
  {
   "cell_type": "markdown",
   "metadata": {},
   "source": [
    "We are now in a good position to define our recommendation function. These are the following steps we'll follow :-\n",
    "\n",
    "* Get the index of the movie given its title.\n",
    "* Get the list of cosine similarity scores for that particular movie with all movies. Convert it into a list of tuples where the first element is its position and the second is the similarity score.\n",
    "* Sort the aforementioned list o tuples based on the similairty scores; that is, the second element.\n",
    "* Get the top 10 elements of this list. Ignore the first element as it refers to self(the movie most similar to a particular movie is the movie itself).\n"
   ]
  }
 ],
 "metadata": {
  "hide_input": false,
  "kernelspec": {
   "display_name": "Python 3",
   "language": "python",
   "name": "python3"
  },
  "language_info": {
   "codemirror_mode": {
    "name": "ipython",
    "version": 3
   },
   "file_extension": ".py",
   "mimetype": "text/x-python",
   "name": "python",
   "nbconvert_exporter": "python",
   "pygments_lexer": "ipython3",
   "version": "3.8.5"
  },
  "toc": {
   "base_numbering": 1,
   "nav_menu": {},
   "number_sections": true,
   "sideBar": true,
   "skip_h1_title": false,
   "title_cell": "Table of Contents",
   "title_sidebar": "Contents",
   "toc_cell": false,
   "toc_position": {},
   "toc_section_display": true,
   "toc_window_display": false
  }
 },
 "nbformat": 4,
 "nbformat_minor": 4
}
